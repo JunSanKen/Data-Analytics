{
  "cells": [
    {
      "cell_type": "markdown",
      "metadata": {
        "id": "CDjkgnUdWZqc"
      },
      "source": [
        "### Overview Dataset\n",
        "\n",
        "\"Data Komponen Beton\".\n",
        "\n",
        "Data set ini berisikan beberapa kategori sebagai berikut\n",
        "* cement (kg)\n",
        "* slag (blast furnace slag, kg)\n",
        "* ash (fly ash, kg)\n",
        "* water (kg)\n",
        "* superplastic (superplasticizer, kg)\n",
        "* coarseagg (coarse aggregate, kg)\n",
        "* fineagg (fine aggregate, kg)\n",
        "* age (days, 1-365)\n",
        "* strength (Concrete compressive strength, MPa)"
      ]
    },
    {
      "cell_type": "markdown",
      "metadata": {
        "id": "US2vtdDUWZqh"
      },
      "source": [
        "# Exploratory Data Analysis (EDA)\n"
      ]
    },
    {
      "cell_type": "markdown",
      "metadata": {
        "id": "d8m27h60WZqi"
      },
      "source": [
        "# Instruksi Tugas Praktikum FIKTI dan FTI\n",
        "\n",
        "1. Buat univariate dan bivariate analysis untuk data set di atas\n",
        "2. Jelaskan kesimpulan yang bisa di ambil dari analysis yg anda lakukan\n"
      ]
    },
    {
      "cell_type": "markdown",
      "metadata": {
        "id": "oFdyBNa8WZqj"
      },
      "source": [
        "<a id=\"1\"></a>\n",
        "\n",
        "# 1. Pengambilan Data:"
      ]
    },
    {
      "cell_type": "markdown",
      "metadata": {
        "id": "LhZbTpDuWZqk"
      },
      "source": [
        "## 1.1 Import packages"
      ]
    },
    {
      "cell_type": "code",
      "execution_count": 1,
      "metadata": {
        "id": "N-m7W10OWZqk"
      },
      "outputs": [],
      "source": [
        "import numpy as np \n",
        "import pandas as pd \n",
        "import seaborn as sns\n",
        "import matplotlib.pyplot as plt\n",
        "%matplotlib inline\n",
        "import warnings\n",
        "warnings.filterwarnings(\"ignore\")\n",
        "from scipy.stats import ttest_ind, ttest_rel\n",
        "from scipy import stats"
      ]
    },
    {
      "cell_type": "markdown",
      "metadata": {
        "id": "G4aqjvPyWZqm"
      },
      "source": [
        "## 1.2 Import data"
      ]
    },
    {
      "cell_type": "code",
      "execution_count": 2,
      "metadata": {
        "colab": {
          "base_uri": "https://localhost:8080/",
          "height": 363
        },
        "id": "4fhOLuX2WZqn",
        "outputId": "31143731-fc7f-4142-c4fb-fd04ca97f74a"
      },
      "outputs": [
        {
          "output_type": "execute_result",
          "data": {
            "text/plain": [
              "   cement   slag    ash  water  superplastic  coarseagg  fineagg  age  \\\n",
              "0   141.3  212.0    0.0  203.5           0.0      971.8    748.5   28   \n",
              "1   168.9   42.2  124.3  158.3          10.8     1080.8    796.2   14   \n",
              "2   250.0    0.0   95.7  187.4           5.5      956.9    861.2   28   \n",
              "3   266.0  114.0    0.0  228.0           0.0      932.0    670.0   28   \n",
              "4   154.8  183.4    0.0  193.3           9.1     1047.4    696.7   28   \n",
              "5   255.0    0.0    0.0  192.0           0.0      889.8    945.0   90   \n",
              "6   166.8  250.2    0.0  203.5           0.0      975.6    692.6    7   \n",
              "7   251.4    0.0  118.3  188.5           6.4     1028.4    757.7   56   \n",
              "8   296.0    0.0    0.0  192.0           0.0     1085.0    765.0   28   \n",
              "9   155.0  184.0  143.0  194.0           9.0      880.0    699.0   28   \n",
              "\n",
              "   strength  \n",
              "0     29.89  \n",
              "1     23.51  \n",
              "2     29.22  \n",
              "3     45.85  \n",
              "4     18.29  \n",
              "5     21.86  \n",
              "6     15.75  \n",
              "7     36.64  \n",
              "8     21.65  \n",
              "9     28.99  "
            ],
            "text/html": [
              "\n",
              "  <div id=\"df-4bc0af36-66e1-43e8-921b-9207b4df3301\">\n",
              "    <div class=\"colab-df-container\">\n",
              "      <div>\n",
              "<style scoped>\n",
              "    .dataframe tbody tr th:only-of-type {\n",
              "        vertical-align: middle;\n",
              "    }\n",
              "\n",
              "    .dataframe tbody tr th {\n",
              "        vertical-align: top;\n",
              "    }\n",
              "\n",
              "    .dataframe thead th {\n",
              "        text-align: right;\n",
              "    }\n",
              "</style>\n",
              "<table border=\"1\" class=\"dataframe\">\n",
              "  <thead>\n",
              "    <tr style=\"text-align: right;\">\n",
              "      <th></th>\n",
              "      <th>cement</th>\n",
              "      <th>slag</th>\n",
              "      <th>ash</th>\n",
              "      <th>water</th>\n",
              "      <th>superplastic</th>\n",
              "      <th>coarseagg</th>\n",
              "      <th>fineagg</th>\n",
              "      <th>age</th>\n",
              "      <th>strength</th>\n",
              "    </tr>\n",
              "  </thead>\n",
              "  <tbody>\n",
              "    <tr>\n",
              "      <th>0</th>\n",
              "      <td>141.3</td>\n",
              "      <td>212.0</td>\n",
              "      <td>0.0</td>\n",
              "      <td>203.5</td>\n",
              "      <td>0.0</td>\n",
              "      <td>971.8</td>\n",
              "      <td>748.5</td>\n",
              "      <td>28</td>\n",
              "      <td>29.89</td>\n",
              "    </tr>\n",
              "    <tr>\n",
              "      <th>1</th>\n",
              "      <td>168.9</td>\n",
              "      <td>42.2</td>\n",
              "      <td>124.3</td>\n",
              "      <td>158.3</td>\n",
              "      <td>10.8</td>\n",
              "      <td>1080.8</td>\n",
              "      <td>796.2</td>\n",
              "      <td>14</td>\n",
              "      <td>23.51</td>\n",
              "    </tr>\n",
              "    <tr>\n",
              "      <th>2</th>\n",
              "      <td>250.0</td>\n",
              "      <td>0.0</td>\n",
              "      <td>95.7</td>\n",
              "      <td>187.4</td>\n",
              "      <td>5.5</td>\n",
              "      <td>956.9</td>\n",
              "      <td>861.2</td>\n",
              "      <td>28</td>\n",
              "      <td>29.22</td>\n",
              "    </tr>\n",
              "    <tr>\n",
              "      <th>3</th>\n",
              "      <td>266.0</td>\n",
              "      <td>114.0</td>\n",
              "      <td>0.0</td>\n",
              "      <td>228.0</td>\n",
              "      <td>0.0</td>\n",
              "      <td>932.0</td>\n",
              "      <td>670.0</td>\n",
              "      <td>28</td>\n",
              "      <td>45.85</td>\n",
              "    </tr>\n",
              "    <tr>\n",
              "      <th>4</th>\n",
              "      <td>154.8</td>\n",
              "      <td>183.4</td>\n",
              "      <td>0.0</td>\n",
              "      <td>193.3</td>\n",
              "      <td>9.1</td>\n",
              "      <td>1047.4</td>\n",
              "      <td>696.7</td>\n",
              "      <td>28</td>\n",
              "      <td>18.29</td>\n",
              "    </tr>\n",
              "    <tr>\n",
              "      <th>5</th>\n",
              "      <td>255.0</td>\n",
              "      <td>0.0</td>\n",
              "      <td>0.0</td>\n",
              "      <td>192.0</td>\n",
              "      <td>0.0</td>\n",
              "      <td>889.8</td>\n",
              "      <td>945.0</td>\n",
              "      <td>90</td>\n",
              "      <td>21.86</td>\n",
              "    </tr>\n",
              "    <tr>\n",
              "      <th>6</th>\n",
              "      <td>166.8</td>\n",
              "      <td>250.2</td>\n",
              "      <td>0.0</td>\n",
              "      <td>203.5</td>\n",
              "      <td>0.0</td>\n",
              "      <td>975.6</td>\n",
              "      <td>692.6</td>\n",
              "      <td>7</td>\n",
              "      <td>15.75</td>\n",
              "    </tr>\n",
              "    <tr>\n",
              "      <th>7</th>\n",
              "      <td>251.4</td>\n",
              "      <td>0.0</td>\n",
              "      <td>118.3</td>\n",
              "      <td>188.5</td>\n",
              "      <td>6.4</td>\n",
              "      <td>1028.4</td>\n",
              "      <td>757.7</td>\n",
              "      <td>56</td>\n",
              "      <td>36.64</td>\n",
              "    </tr>\n",
              "    <tr>\n",
              "      <th>8</th>\n",
              "      <td>296.0</td>\n",
              "      <td>0.0</td>\n",
              "      <td>0.0</td>\n",
              "      <td>192.0</td>\n",
              "      <td>0.0</td>\n",
              "      <td>1085.0</td>\n",
              "      <td>765.0</td>\n",
              "      <td>28</td>\n",
              "      <td>21.65</td>\n",
              "    </tr>\n",
              "    <tr>\n",
              "      <th>9</th>\n",
              "      <td>155.0</td>\n",
              "      <td>184.0</td>\n",
              "      <td>143.0</td>\n",
              "      <td>194.0</td>\n",
              "      <td>9.0</td>\n",
              "      <td>880.0</td>\n",
              "      <td>699.0</td>\n",
              "      <td>28</td>\n",
              "      <td>28.99</td>\n",
              "    </tr>\n",
              "  </tbody>\n",
              "</table>\n",
              "</div>\n",
              "      <button class=\"colab-df-convert\" onclick=\"convertToInteractive('df-4bc0af36-66e1-43e8-921b-9207b4df3301')\"\n",
              "              title=\"Convert this dataframe to an interactive table.\"\n",
              "              style=\"display:none;\">\n",
              "        \n",
              "  <svg xmlns=\"http://www.w3.org/2000/svg\" height=\"24px\"viewBox=\"0 0 24 24\"\n",
              "       width=\"24px\">\n",
              "    <path d=\"M0 0h24v24H0V0z\" fill=\"none\"/>\n",
              "    <path d=\"M18.56 5.44l.94 2.06.94-2.06 2.06-.94-2.06-.94-.94-2.06-.94 2.06-2.06.94zm-11 1L8.5 8.5l.94-2.06 2.06-.94-2.06-.94L8.5 2.5l-.94 2.06-2.06.94zm10 10l.94 2.06.94-2.06 2.06-.94-2.06-.94-.94-2.06-.94 2.06-2.06.94z\"/><path d=\"M17.41 7.96l-1.37-1.37c-.4-.4-.92-.59-1.43-.59-.52 0-1.04.2-1.43.59L10.3 9.45l-7.72 7.72c-.78.78-.78 2.05 0 2.83L4 21.41c.39.39.9.59 1.41.59.51 0 1.02-.2 1.41-.59l7.78-7.78 2.81-2.81c.8-.78.8-2.07 0-2.86zM5.41 20L4 18.59l7.72-7.72 1.47 1.35L5.41 20z\"/>\n",
              "  </svg>\n",
              "      </button>\n",
              "      \n",
              "  <style>\n",
              "    .colab-df-container {\n",
              "      display:flex;\n",
              "      flex-wrap:wrap;\n",
              "      gap: 12px;\n",
              "    }\n",
              "\n",
              "    .colab-df-convert {\n",
              "      background-color: #E8F0FE;\n",
              "      border: none;\n",
              "      border-radius: 50%;\n",
              "      cursor: pointer;\n",
              "      display: none;\n",
              "      fill: #1967D2;\n",
              "      height: 32px;\n",
              "      padding: 0 0 0 0;\n",
              "      width: 32px;\n",
              "    }\n",
              "\n",
              "    .colab-df-convert:hover {\n",
              "      background-color: #E2EBFA;\n",
              "      box-shadow: 0px 1px 2px rgba(60, 64, 67, 0.3), 0px 1px 3px 1px rgba(60, 64, 67, 0.15);\n",
              "      fill: #174EA6;\n",
              "    }\n",
              "\n",
              "    [theme=dark] .colab-df-convert {\n",
              "      background-color: #3B4455;\n",
              "      fill: #D2E3FC;\n",
              "    }\n",
              "\n",
              "    [theme=dark] .colab-df-convert:hover {\n",
              "      background-color: #434B5C;\n",
              "      box-shadow: 0px 1px 3px 1px rgba(0, 0, 0, 0.15);\n",
              "      filter: drop-shadow(0px 1px 2px rgba(0, 0, 0, 0.3));\n",
              "      fill: #FFFFFF;\n",
              "    }\n",
              "  </style>\n",
              "\n",
              "      <script>\n",
              "        const buttonEl =\n",
              "          document.querySelector('#df-4bc0af36-66e1-43e8-921b-9207b4df3301 button.colab-df-convert');\n",
              "        buttonEl.style.display =\n",
              "          google.colab.kernel.accessAllowed ? 'block' : 'none';\n",
              "\n",
              "        async function convertToInteractive(key) {\n",
              "          const element = document.querySelector('#df-4bc0af36-66e1-43e8-921b-9207b4df3301');\n",
              "          const dataTable =\n",
              "            await google.colab.kernel.invokeFunction('convertToInteractive',\n",
              "                                                     [key], {});\n",
              "          if (!dataTable) return;\n",
              "\n",
              "          const docLinkHtml = 'Like what you see? Visit the ' +\n",
              "            '<a target=\"_blank\" href=https://colab.research.google.com/notebooks/data_table.ipynb>data table notebook</a>'\n",
              "            + ' to learn more about interactive tables.';\n",
              "          element.innerHTML = '';\n",
              "          dataTable['output_type'] = 'display_data';\n",
              "          await google.colab.output.renderOutput(dataTable, element);\n",
              "          const docLink = document.createElement('div');\n",
              "          docLink.innerHTML = docLinkHtml;\n",
              "          element.appendChild(docLink);\n",
              "        }\n",
              "      </script>\n",
              "    </div>\n",
              "  </div>\n",
              "  "
            ]
          },
          "metadata": {},
          "execution_count": 2
        }
      ],
      "source": [
        "data = pd.read_csv(\"https://raw.githubusercontent.com/supasonicx/ATA-praktikum-01/main/concrete.csv\")\n",
        "data.head(10)"
      ]
    },
    {
      "cell_type": "markdown",
      "metadata": {
        "id": "ejPBvZC2WZqp"
      },
      "source": [
        "# 2. EDA"
      ]
    },
    {
      "cell_type": "markdown",
      "metadata": {
        "id": "DJRz0LB4WZqp"
      },
      "source": [
        "## 2.1.Univariate analysis\n",
        "<a id=\"2\"></a>"
      ]
    },
    {
      "cell_type": "markdown",
      "metadata": {
        "id": "YZaYoAB4WZqq"
      },
      "source": [
        "## 2.1.1 [Strength]"
      ]
    },
    {
      "cell_type": "markdown",
      "metadata": {
        "id": "IWZ_3zCoWZqq"
      },
      "source": [
        "### **i.\tDistribusi**"
      ]
    },
    {
      "cell_type": "code",
      "execution_count": 36,
      "metadata": {
        "scrolled": false,
        "colab": {
          "base_uri": "https://localhost:8080/",
          "height": 410
        },
        "id": "EM-mb5hNWZqr",
        "outputId": "a7ff363c-6253-4d13-a60e-4ffa0edf4e68"
      },
      "outputs": [
        {
          "output_type": "display_data",
          "data": {
            "text/plain": [
              "<Figure size 432x432 with 1 Axes>"
            ],
            "image/png": "[encoded data removed]"
          },
          "metadata": {}
        }
      ],
      "source": [
        "# Buat diagram di sini\n",
        "data['strength'].hist(figsize=(6,6))\n",
        "plt.xlabel(\"Nilai Strength\")\n",
        "plt.ylabel(\"Count\")\n",
        "plt.title(\"Strength Distribution\")\n",
        "plt.show()"
      ]
    },
    {
      "cell_type": "markdown",
      "metadata": {
        "id": "0fOMurGkWZqs"
      },
      "source": [
        "### **ii.\tDeskripsi**"
      ]
    },
    {
      "cell_type": "markdown",
      "metadata": {
        "id": "yUKYBCKIWZqs"
      },
      "source": [
        "Jelaskan diagram di atas\n",
        "\n",
        "Diagram di atas menjelaskan bahwa :\n",
        "*  atribut \"strength\" simetris.\n",
        "*  nilai strength dengan kisaran 0-80 rata-rata berada di angka 40 dengan hampir 200 banyak data"
      ]
    },
    {
      "cell_type": "markdown",
      "source": [
        "**Karena rata-rata nilai strength berada di angka 40, maka kita akan membuat strength menjadi dua kategori yaitu dengan tingkat strength <40Mpa dan tingkat strength >=40Mpa**"
      ],
      "metadata": {
        "id": "8CpcN6hNkq9L"
      }
    },
    {
      "cell_type": "code",
      "source": [
        "x = []\n",
        "for i in data['strength']:\n",
        "  if i <= 40:\n",
        "    x.append(\"<=40Mpa\")\n",
        "  else:\n",
        "    x.append(\">40Mpa\")\n",
        "data['strength_Mpa'] = x\n",
        "display(data)"
      ],
      "metadata": {
        "colab": {
          "base_uri": "https://localhost:8080/",
          "height": 423
        },
        "id": "9z7Plh4Xjr8Q",
        "outputId": "74d326ea-d471-4168-b668-8a71fbfcdb3e"
      },
      "execution_count": 37,
      "outputs": [
        {
          "output_type": "display_data",
          "data": {
            "text/plain": [
              "      cement   slag    ash  water  superplastic  coarseagg  fineagg  age  \\\n",
              "0      141.3  212.0    0.0  203.5           0.0      971.8    748.5   28   \n",
              "1      168.9   42.2  124.3  158.3          10.8     1080.8    796.2   14   \n",
              "2      250.0    0.0   95.7  187.4           5.5      956.9    861.2   28   \n",
              "3      266.0  114.0    0.0  228.0           0.0      932.0    670.0   28   \n",
              "4      154.8  183.4    0.0  193.3           9.1     1047.4    696.7   28   \n",
              "...      ...    ...    ...    ...           ...        ...      ...  ...   \n",
              "1025   135.0    0.0  166.0  180.0          10.0      961.0    805.0   28   \n",
              "1026   531.3    0.0    0.0  141.8          28.2      852.1    893.7    3   \n",
              "1027   276.4  116.0   90.3  179.6           8.9      870.1    768.3   28   \n",
              "1028   342.0   38.0    0.0  228.0           0.0      932.0    670.0  270   \n",
              "1029   540.0    0.0    0.0  173.0           0.0     1125.0    613.0    7   \n",
              "\n",
              "      strength strength_Mpa  \n",
              "0        29.89      <=40Mpa  \n",
              "1        23.51      <=40Mpa  \n",
              "2        29.22      <=40Mpa  \n",
              "3        45.85       >40Mpa  \n",
              "4        18.29      <=40Mpa  \n",
              "...        ...          ...  \n",
              "1025     13.29      <=40Mpa  \n",
              "1026     41.30       >40Mpa  \n",
              "1027     44.28       >40Mpa  \n",
              "1028     55.06       >40Mpa  \n",
              "1029     52.61       >40Mpa  \n",
              "\n",
              "[1030 rows x 10 columns]"
            ],
            "text/html": [
              "\n",
              "  <div id=\"df-b4858159-e9a8-4cca-8189-0c729f37114c\">\n",
              "    <div class=\"colab-df-container\">\n",
              "      <div>\n",
              "<style scoped>\n",
              "    .dataframe tbody tr th:only-of-type {\n",
              "        vertical-align: middle;\n",
              "    }\n",
              "\n",
              "    .dataframe tbody tr th {\n",
              "        vertical-align: top;\n",
              "    }\n",
              "\n",
              "    .dataframe thead th {\n",
              "        text-align: right;\n",
              "    }\n",
              "</style>\n",
              "<table border=\"1\" class=\"dataframe\">\n",
              "  <thead>\n",
              "    <tr style=\"text-align: right;\">\n",
              "      <th></th>\n",
              "      <th>cement</th>\n",
              "      <th>slag</th>\n",
              "      <th>ash</th>\n",
              "      <th>water</th>\n",
              "      <th>superplastic</th>\n",
              "      <th>coarseagg</th>\n",
              "      <th>fineagg</th>\n",
              "      <th>age</th>\n",
              "      <th>strength</th>\n",
              "      <th>strength_Mpa</th>\n",
              "    </tr>\n",
              "  </thead>\n",
              "  <tbody>\n",
              "    <tr>\n",
              "      <th>0</th>\n",
              "      <td>141.3</td>\n",
              "      <td>212.0</td>\n",
              "      <td>0.0</td>\n",
              "      <td>203.5</td>\n",
              "      <td>0.0</td>\n",
              "      <td>971.8</td>\n",
              "      <td>748.5</td>\n",
              "      <td>28</td>\n",
              "      <td>29.89</td>\n",
              "      <td>&lt;=40Mpa</td>\n",
              "    </tr>\n",
              "    <tr>\n",
              "      <th>1</th>\n",
              "      <td>168.9</td>\n",
              "      <td>42.2</td>\n",
              "      <td>124.3</td>\n",
              "      <td>158.3</td>\n",
              "      <td>10.8</td>\n",
              "      <td>1080.8</td>\n",
              "      <td>796.2</td>\n",
              "      <td>14</td>\n",
              "      <td>23.51</td>\n",
              "      <td>&lt;=40Mpa</td>\n",
              "    </tr>\n",
              "    <tr>\n",
              "      <th>2</th>\n",
              "      <td>250.0</td>\n",
              "      <td>0.0</td>\n",
              "      <td>95.7</td>\n",
              "      <td>187.4</td>\n",
              "      <td>5.5</td>\n",
              "      <td>956.9</td>\n",
              "      <td>861.2</td>\n",
              "      <td>28</td>\n",
              "      <td>29.22</td>\n",
              "      <td>&lt;=40Mpa</td>\n",
              "    </tr>\n",
              "    <tr>\n",
              "      <th>3</th>\n",
              "      <td>266.0</td>\n",
              "      <td>114.0</td>\n",
              "      <td>0.0</td>\n",
              "      <td>228.0</td>\n",
              "      <td>0.0</td>\n",
              "      <td>932.0</td>\n",
              "      <td>670.0</td>\n",
              "      <td>28</td>\n",
              "      <td>45.85</td>\n",
              "      <td>&gt;40Mpa</td>\n",
              "    </tr>\n",
              "    <tr>\n",
              "      <th>4</th>\n",
              "      <td>154.8</td>\n",
              "      <td>183.4</td>\n",
              "      <td>0.0</td>\n",
              "      <td>193.3</td>\n",
              "      <td>9.1</td>\n",
              "      <td>1047.4</td>\n",
              "      <td>696.7</td>\n",
              "      <td>28</td>\n",
              "      <td>18.29</td>\n",
              "      <td>&lt;=40Mpa</td>\n",
              "    </tr>\n",
              "    <tr>\n",
              "      <th>...</th>\n",
              "      <td>...</td>\n",
              "      <td>...</td>\n",
              "      <td>...</td>\n",
              "      <td>...</td>\n",
              "      <td>...</td>\n",
              "      <td>...</td>\n",
              "      <td>...</td>\n",
              "      <td>...</td>\n",
              "      <td>...</td>\n",
              "      <td>...</td>\n",
              "    </tr>\n",
              "    <tr>\n",
              "      <th>1025</th>\n",
              "      <td>135.0</td>\n",
              "      <td>0.0</td>\n",
              "      <td>166.0</td>\n",
              "      <td>180.0</td>\n",
              "      <td>10.0</td>\n",
              "      <td>961.0</td>\n",
              "      <td>805.0</td>\n",
              "      <td>28</td>\n",
              "      <td>13.29</td>\n",
              "      <td>&lt;=40Mpa</td>\n",
              "    </tr>\n",
              "    <tr>\n",
              "      <th>1026</th>\n",
              "      <td>531.3</td>\n",
              "      <td>0.0</td>\n",
              "      <td>0.0</td>\n",
              "      <td>141.8</td>\n",
              "      <td>28.2</td>\n",
              "      <td>852.1</td>\n",
              "      <td>893.7</td>\n",
              "      <td>3</td>\n",
              "      <td>41.30</td>\n",
              "      <td>&gt;40Mpa</td>\n",
              "    </tr>\n",
              "    <tr>\n",
              "      <th>1027</th>\n",
              "      <td>276.4</td>\n",
              "      <td>116.0</td>\n",
              "      <td>90.3</td>\n",
              "      <td>179.6</td>\n",
              "      <td>8.9</td>\n",
              "      <td>870.1</td>\n",
              "      <td>768.3</td>\n",
              "      <td>28</td>\n",
              "      <td>44.28</td>\n",
              "      <td>&gt;40Mpa</td>\n",
              "    </tr>\n",
              "    <tr>\n",
              "      <th>1028</th>\n",
              "      <td>342.0</td>\n",
              "      <td>38.0</td>\n",
              "      <td>0.0</td>\n",
              "      <td>228.0</td>\n",
              "      <td>0.0</td>\n",
              "      <td>932.0</td>\n",
              "      <td>670.0</td>\n",
              "      <td>270</td>\n",
              "      <td>55.06</td>\n",
              "      <td>&gt;40Mpa</td>\n",
              "    </tr>\n",
              "    <tr>\n",
              "      <th>1029</th>\n",
              "      <td>540.0</td>\n",
              "      <td>0.0</td>\n",
              "      <td>0.0</td>\n",
              "      <td>173.0</td>\n",
              "      <td>0.0</td>\n",
              "      <td>1125.0</td>\n",
              "      <td>613.0</td>\n",
              "      <td>7</td>\n",
              "      <td>52.61</td>\n",
              "      <td>&gt;40Mpa</td>\n",
              "    </tr>\n",
              "  </tbody>\n",
              "</table>\n",
              "<p>1030 rows × 10 columns</p>\n",
              "</div>\n",
              "      <button class=\"colab-df-convert\" onclick=\"convertToInteractive('df-b4858159-e9a8-4cca-8189-0c729f37114c')\"\n",
              "              title=\"Convert this dataframe to an interactive table.\"\n",
              "              style=\"display:none;\">\n",
              "        \n",
              "  <svg xmlns=\"http://www.w3.org/2000/svg\" height=\"24px\"viewBox=\"0 0 24 24\"\n",
              "       width=\"24px\">\n",
              "    <path d=\"M0 0h24v24H0V0z\" fill=\"none\"/>\n",
              "    <path d=\"M18.56 5.44l.94 2.06.94-2.06 2.06-.94-2.06-.94-.94-2.06-.94 2.06-2.06.94zm-11 1L8.5 8.5l.94-2.06 2.06-.94-2.06-.94L8.5 2.5l-.94 2.06-2.06.94zm10 10l.94 2.06.94-2.06 2.06-.94-2.06-.94-.94-2.06-.94 2.06-2.06.94z\"/><path d=\"M17.41 7.96l-1.37-1.37c-.4-.4-.92-.59-1.43-.59-.52 0-1.04.2-1.43.59L10.3 9.45l-7.72 7.72c-.78.78-.78 2.05 0 2.83L4 21.41c.39.39.9.59 1.41.59.51 0 1.02-.2 1.41-.59l7.78-7.78 2.81-2.81c.8-.78.8-2.07 0-2.86zM5.41 20L4 18.59l7.72-7.72 1.47 1.35L5.41 20z\"/>\n",
              "  </svg>\n",
              "      </button>\n",
              "      \n",
              "  <style>\n",
              "    .colab-df-container {\n",
              "      display:flex;\n",
              "      flex-wrap:wrap;\n",
              "      gap: 12px;\n",
              "    }\n",
              "\n",
              "    .colab-df-convert {\n",
              "      background-color: #E8F0FE;\n",
              "      border: none;\n",
              "      border-radius: 50%;\n",
              "      cursor: pointer;\n",
              "      display: none;\n",
              "      fill: #1967D2;\n",
              "      height: 32px;\n",
              "      padding: 0 0 0 0;\n",
              "      width: 32px;\n",
              "    }\n",
              "\n",
              "    .colab-df-convert:hover {\n",
              "      background-color: #E2EBFA;\n",
              "      box-shadow: 0px 1px 2px rgba(60, 64, 67, 0.3), 0px 1px 3px 1px rgba(60, 64, 67, 0.15);\n",
              "      fill: #174EA6;\n",
              "    }\n",
              "\n",
              "    [theme=dark] .colab-df-convert {\n",
              "      background-color: #3B4455;\n",
              "      fill: #D2E3FC;\n",
              "    }\n",
              "\n",
              "    [theme=dark] .colab-df-convert:hover {\n",
              "      background-color: #434B5C;\n",
              "      box-shadow: 0px 1px 3px 1px rgba(0, 0, 0, 0.15);\n",
              "      filter: drop-shadow(0px 1px 2px rgba(0, 0, 0, 0.3));\n",
              "      fill: #FFFFFF;\n",
              "    }\n",
              "  </style>\n",
              "\n",
              "      <script>\n",
              "        const buttonEl =\n",
              "          document.querySelector('#df-b4858159-e9a8-4cca-8189-0c729f37114c button.colab-df-convert');\n",
              "        buttonEl.style.display =\n",
              "          google.colab.kernel.accessAllowed ? 'block' : 'none';\n",
              "\n",
              "        async function convertToInteractive(key) {\n",
              "          const element = document.querySelector('#df-b4858159-e9a8-4cca-8189-0c729f37114c');\n",
              "          const dataTable =\n",
              "            await google.colab.kernel.invokeFunction('convertToInteractive',\n",
              "                                                     [key], {});\n",
              "          if (!dataTable) return;\n",
              "\n",
              "          const docLinkHtml = 'Like what you see? Visit the ' +\n",
              "            '<a target=\"_blank\" href=https://colab.research.google.com/notebooks/data_table.ipynb>data table notebook</a>'\n",
              "            + ' to learn more about interactive tables.';\n",
              "          element.innerHTML = '';\n",
              "          dataTable['output_type'] = 'display_data';\n",
              "          await google.colab.output.renderOutput(dataTable, element);\n",
              "          const docLink = document.createElement('div');\n",
              "          docLink.innerHTML = docLinkHtml;\n",
              "          element.appendChild(docLink);\n",
              "        }\n",
              "      </script>\n",
              "    </div>\n",
              "  </div>\n",
              "  "
            ]
          },
          "metadata": {}
        }
      ]
    },
    {
      "cell_type": "code",
      "source": [
        "plt.figure(figsize=(7,7))\n",
        "total = float(len(data) )\n",
        "\n",
        "ax = sns.countplot(x=\"strength_Mpa\", data=data)\n",
        "for p in ax.patches:\n",
        "    height = p.get_height()\n",
        "    ax.text(p.get_x()+p.get_width()/2.,\n",
        "            height + 3,\n",
        "            '{:1.2f}'.format((height/total)*100),\n",
        "            ha=\"center\")\n",
        "plt.show()"
      ],
      "metadata": {
        "colab": {
          "base_uri": "https://localhost:8080/",
          "height": 448
        },
        "id": "KkreLjWWlFSz",
        "outputId": "7acd95ef-c621-40dc-880f-a6551423fa9e"
      },
      "execution_count": 38,
      "outputs": [
        {
          "output_type": "display_data",
          "data": {
            "text/plain": [
              "<Figure size 504x504 with 1 Axes>"
            ],
            "image/png": "[encoded data removed]"
          },
          "metadata": {}
        }
      ]
    },
    {
      "cell_type": "markdown",
      "source": [
        "### **ii. Deskripsi**\n",
        "Distribusi di atas menjelaskan bahwa :\n",
        "* **Dataset pada strength sebanyak 63.20% dengan <=40Mpa dan 36.80% dengan >40Mpa**"
      ],
      "metadata": {
        "id": "8QvsZHAllqdP"
      }
    },
    {
      "cell_type": "markdown",
      "metadata": {
        "id": "s4qTbhp5WZqt"
      },
      "source": [
        "<a id=\"3\"></a>\n",
        "# 2.2.Bivariate analysis"
      ]
    },
    {
      "cell_type": "markdown",
      "metadata": {
        "id": "25pkY2HPWZqu"
      },
      "source": [
        "## 2.2.1 [age-strength_Mpa] Hubungan"
      ]
    },
    {
      "cell_type": "markdown",
      "metadata": {
        "id": "KJImMAQnWZqu"
      },
      "source": [
        "### i. **Boxplot**"
      ]
    },
    {
      "cell_type": "code",
      "execution_count": 39,
      "metadata": {
        "colab": {
          "base_uri": "https://localhost:8080/",
          "height": 611
        },
        "id": "P4wcx44EWZqv",
        "outputId": "27769545-7c47-4dfa-c0df-bd339f022b1b"
      },
      "outputs": [
        {
          "output_type": "display_data",
          "data": {
            "text/plain": [
              "<Figure size 720x720 with 1 Axes>"
            ],
            "image/png": "[encoded data removed]"
          },
          "metadata": {}
        }
      ],
      "source": [
        "# Buat diagram di sini\n",
        "fig = plt.figure(figsize=(10,10)) \n",
        "sns.boxplot(x=\"strength_Mpa\", y=\"age\", data=data)\n",
        "plt.show()"
      ]
    },
    {
      "cell_type": "code",
      "source": [
        "data[['strength_Mpa', 'age']].groupby(['strength_Mpa'], as_index=False).mean().sort_values(by='age', ascending=False)"
      ],
      "metadata": {
        "colab": {
          "base_uri": "https://localhost:8080/",
          "height": 112
        },
        "id": "yppcIipHnoS_",
        "outputId": "fe001554-e224-410d-a6e4-710fd67c08e3"
      },
      "execution_count": 40,
      "outputs": [
        {
          "output_type": "execute_result",
          "data": {
            "text/plain": [
              "  strength_Mpa        age\n",
              "1       >40Mpa  72.044855\n",
              "0      <=40Mpa  30.302611"
            ],
            "text/html": [
              "\n",
              "  <div id=\"df-0b9b8aad-67bd-42ae-9842-8d5fb6639d24\">\n",
              "    <div class=\"colab-df-container\">\n",
              "      <div>\n",
              "<style scoped>\n",
              "    .dataframe tbody tr th:only-of-type {\n",
              "        vertical-align: middle;\n",
              "    }\n",
              "\n",
              "    .dataframe tbody tr th {\n",
              "        vertical-align: top;\n",
              "    }\n",
              "\n",
              "    .dataframe thead th {\n",
              "        text-align: right;\n",
              "    }\n",
              "</style>\n",
              "<table border=\"1\" class=\"dataframe\">\n",
              "  <thead>\n",
              "    <tr style=\"text-align: right;\">\n",
              "      <th></th>\n",
              "      <th>strength_Mpa</th>\n",
              "      <th>age</th>\n",
              "    </tr>\n",
              "  </thead>\n",
              "  <tbody>\n",
              "    <tr>\n",
              "      <th>1</th>\n",
              "      <td>&gt;40Mpa</td>\n",
              "      <td>72.044855</td>\n",
              "    </tr>\n",
              "    <tr>\n",
              "      <th>0</th>\n",
              "      <td>&lt;=40Mpa</td>\n",
              "      <td>30.302611</td>\n",
              "    </tr>\n",
              "  </tbody>\n",
              "</table>\n",
              "</div>\n",
              "      <button class=\"colab-df-convert\" onclick=\"convertToInteractive('df-0b9b8aad-67bd-42ae-9842-8d5fb6639d24')\"\n",
              "              title=\"Convert this dataframe to an interactive table.\"\n",
              "              style=\"display:none;\">\n",
              "        \n",
              "  <svg xmlns=\"http://www.w3.org/2000/svg\" height=\"24px\"viewBox=\"0 0 24 24\"\n",
              "       width=\"24px\">\n",
              "    <path d=\"M0 0h24v24H0V0z\" fill=\"none\"/>\n",
              "    <path d=\"M18.56 5.44l.94 2.06.94-2.06 2.06-.94-2.06-.94-.94-2.06-.94 2.06-2.06.94zm-11 1L8.5 8.5l.94-2.06 2.06-.94-2.06-.94L8.5 2.5l-.94 2.06-2.06.94zm10 10l.94 2.06.94-2.06 2.06-.94-2.06-.94-.94-2.06-.94 2.06-2.06.94z\"/><path d=\"M17.41 7.96l-1.37-1.37c-.4-.4-.92-.59-1.43-.59-.52 0-1.04.2-1.43.59L10.3 9.45l-7.72 7.72c-.78.78-.78 2.05 0 2.83L4 21.41c.39.39.9.59 1.41.59.51 0 1.02-.2 1.41-.59l7.78-7.78 2.81-2.81c.8-.78.8-2.07 0-2.86zM5.41 20L4 18.59l7.72-7.72 1.47 1.35L5.41 20z\"/>\n",
              "  </svg>\n",
              "      </button>\n",
              "      \n",
              "  <style>\n",
              "    .colab-df-container {\n",
              "      display:flex;\n",
              "      flex-wrap:wrap;\n",
              "      gap: 12px;\n",
              "    }\n",
              "\n",
              "    .colab-df-convert {\n",
              "      background-color: #E8F0FE;\n",
              "      border: none;\n",
              "      border-radius: 50%;\n",
              "      cursor: pointer;\n",
              "      display: none;\n",
              "      fill: #1967D2;\n",
              "      height: 32px;\n",
              "      padding: 0 0 0 0;\n",
              "      width: 32px;\n",
              "    }\n",
              "\n",
              "    .colab-df-convert:hover {\n",
              "      background-color: #E2EBFA;\n",
              "      box-shadow: 0px 1px 2px rgba(60, 64, 67, 0.3), 0px 1px 3px 1px rgba(60, 64, 67, 0.15);\n",
              "      fill: #174EA6;\n",
              "    }\n",
              "\n",
              "    [theme=dark] .colab-df-convert {\n",
              "      background-color: #3B4455;\n",
              "      fill: #D2E3FC;\n",
              "    }\n",
              "\n",
              "    [theme=dark] .colab-df-convert:hover {\n",
              "      background-color: #434B5C;\n",
              "      box-shadow: 0px 1px 3px 1px rgba(0, 0, 0, 0.15);\n",
              "      filter: drop-shadow(0px 1px 2px rgba(0, 0, 0, 0.3));\n",
              "      fill: #FFFFFF;\n",
              "    }\n",
              "  </style>\n",
              "\n",
              "      <script>\n",
              "        const buttonEl =\n",
              "          document.querySelector('#df-0b9b8aad-67bd-42ae-9842-8d5fb6639d24 button.colab-df-convert');\n",
              "        buttonEl.style.display =\n",
              "          google.colab.kernel.accessAllowed ? 'block' : 'none';\n",
              "\n",
              "        async function convertToInteractive(key) {\n",
              "          const element = document.querySelector('#df-0b9b8aad-67bd-42ae-9842-8d5fb6639d24');\n",
              "          const dataTable =\n",
              "            await google.colab.kernel.invokeFunction('convertToInteractive',\n",
              "                                                     [key], {});\n",
              "          if (!dataTable) return;\n",
              "\n",
              "          const docLinkHtml = 'Like what you see? Visit the ' +\n",
              "            '<a target=\"_blank\" href=https://colab.research.google.com/notebooks/data_table.ipynb>data table notebook</a>'\n",
              "            + ' to learn more about interactive tables.';\n",
              "          element.innerHTML = '';\n",
              "          dataTable['output_type'] = 'display_data';\n",
              "          await google.colab.output.renderOutput(dataTable, element);\n",
              "          const docLink = document.createElement('div');\n",
              "          docLink.innerHTML = docLinkHtml;\n",
              "          element.appendChild(docLink);\n",
              "        }\n",
              "      </script>\n",
              "    </div>\n",
              "  </div>\n",
              "  "
            ]
          },
          "metadata": {},
          "execution_count": 40
        }
      ]
    },
    {
      "cell_type": "markdown",
      "metadata": {
        "id": "vjZypQmIWZqv"
      },
      "source": [
        "### ii. Deskripsi"
      ]
    },
    {
      "cell_type": "markdown",
      "metadata": {
        "id": "yEX8YbdaWZqw"
      },
      "source": [
        "Jelaskan diagram di atas\n",
        "\n",
        "* Komponen beton yang lebih kuat (>40Mpa) memiliki umur yang lebih panjang dibandingkan komponen beton yang lebih lemah (<=40Mpa) memiliki umur yang cenderung lebih pendek.\n",
        "* Rata-rata umur beton yang lebih kuat (>40Mpa) adalah 72.04, sedangkan rata-rata umur beton yang lebih lemah (<=40Mpa) adalah 30.30\n",
        "* Terdapat korelasi atau hubungan antara umur dengan kekuatan beton"
      ]
    },
    {
      "cell_type": "markdown",
      "metadata": {
        "id": "66N-JdxAWZqx"
      },
      "source": [
        "### iii. Uji Hipotesis\n",
        "**Two sampled T-test** :-Uji Independent Samples t Test atau 2-sample t-test membandingkan rata-rata dua kelompok independen untuk menentukan apakah ada bukti statistik bahwa rata-rata populasi terkait berbeda secara signifikan.\n"
      ]
    },
    {
      "cell_type": "markdown",
      "metadata": {
        "id": "exqcHn2oWZqy"
      },
      "source": [
        "Tentukan null dan alternate hypothesis.\n",
        "\n",
        "    Secara umum, null hypothesis akan menyatakan bahwa kedua populasi yang diuji tidak memiliki perbedaan yang signifikan secara statistik.\n",
        "    alternate hypothesis akan menyatakan bahwa ada perbedaan."
      ]
    },
    {
      "cell_type": "markdown",
      "metadata": {
        "id": "PCXPA1rfWZqz"
      },
      "source": [
        "Dalam contoh ini kita dapat mengatakan bahwa:\n",
        "*  Null Hypothesis :- tidak ada perbedaan Rerata usia kelompok kekuatan beton <=40Mpa dan kelompok kekuatan beton >40Mpa.\n",
        "*  Alternate Hypothesis :- ada perbedaan Rerata usia kelompok kekuatan beton <=40Mpa dan kelompok kekuatan beton >40Mpa."
      ]
    },
    {
      "cell_type": "code",
      "execution_count": 44,
      "metadata": {
        "id": "ra60gq00WZq0"
      },
      "outputs": [],
      "source": [
        "# Buat uji hipotesis untuk menentukan null atau alternate hypothesis\n",
        "import random\n",
        "\n",
        "data = data[(np.abs(stats.zscore(data[\"age\"])) < 3)] \n",
        "\n",
        "strength_Mpa_1 = data[data['strength_Mpa']=='<=40Mpa']['age']\n",
        "strength_Mpa_0 = data[data['strength_Mpa']=='>40Mpa']['age']\n",
        "\n",
        "strength_Mpa_0 = strength_Mpa_0.values.tolist()\n",
        "strength_Mpa_0 = random.sample(strength_Mpa_0, 100)\n",
        "strength_Mpa_1 = strength_Mpa_1.values.tolist()\n",
        "strength_Mpa_1 = random.sample(strength_Mpa_1, 100)"
      ]
    },
    {
      "cell_type": "code",
      "source": [
        "from scipy.stats import ttest_ind\n",
        "ttest,pval = ttest_ind(strength_Mpa_1,strength_Mpa_0,equal_var = False)\n",
        "print(\"ttest\",ttest)\n",
        "print('p value',pval)\n",
        "\n",
        "\n",
        "if pval <0.05:\n",
        "    print(\"null hypothesis ditolak\")\n",
        "else:\n",
        "    print(\"null hypothesis diterima\")"
      ],
      "metadata": {
        "colab": {
          "base_uri": "https://localhost:8080/"
        },
        "id": "sgmI0dlMpXKx",
        "outputId": "03115c13-2e4a-4f28-e4de-217cce96ffb2"
      },
      "execution_count": 47,
      "outputs": [
        {
          "output_type": "stream",
          "name": "stdout",
          "text": [
            "ttest -7.911991238883243\n",
            "p value 2.369033874420464e-13\n",
            "null hypothesis ditolak\n"
          ]
        }
      ]
    },
    {
      "cell_type": "markdown",
      "metadata": {
        "id": "TKVGyCmtWZq1"
      },
      "source": [
        "### iv. Kesimpulan akhir"
      ]
    },
    {
      "cell_type": "markdown",
      "metadata": {
        "id": "d3RsxPqYWZq1"
      },
      "source": [
        "Tulis kesimpulan akhir mengenai dataset\n",
        "* Dapat disimpulkan bahwa terdapat perbedaan yang signifikan pada rerata usia kekuatan beton (<=40Mpa) dan kekuatan beton (>40Mpa).\n",
        "* Hal Ini membuktikan bahwa usia memiliki peranan dalam membedakan kekuatan beton"
      ]
    }
  ],
  "metadata": {
    "kernelspec": {
      "display_name": "Python 3",
      "language": "python",
      "name": "python3"
    },
    "language_info": {
      "codemirror_mode": {
        "name": "ipython",
        "version": 3
      },
      "file_extension": ".py",
      "mimetype": "text/x-python",
      "name": "python",
      "nbconvert_exporter": "python",
      "pygments_lexer": "ipython3",
      "version": "3.6.9"
    },
    "colab": {
      "name": "file-notebook-v.ipynb",
      "provenance": [],
      "collapsed_sections": []
    }
  },
  "nbformat": 4,
  "nbformat_minor": 0
}