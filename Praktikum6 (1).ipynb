{
  "cells": [
    {
      "cell_type": "markdown",
      "source": [
        "# Affa Alfiandy\n",
        "## 2IA08\n",
        "## 50420056"
      ],
      "metadata": {
        "id": "Vp1uE3vCBHQG"
      }
    },
    {
      "cell_type": "markdown",
      "metadata": {
        "id": "QC5WE77p2Wac"
      },
      "source": [
        "# Praktikum V\n",
        "\n",
        "Selamat datang pada praktikum unggulan minggu ke - 5. \n",
        "\n",
        "\n",
        "![1_L0464qoX7pSkIQMBcF73Tg.png](attachment:1_L0464qoX7pSkIQMBcF73Tg.png)\n",
        "\n",
        "Gambar diatas menunjukkan tahapan yang Anda perlu lakukan ketika ingin membangun sebuah model artificial intelligence. \n",
        "Pada minggu ini Anda akan melakukan fase data cleansing atau pembersihan data. Tahapan ini biasanya dilakuakan sebelum anda melakukan tahapan EDA yang telah Anda pelajari sebelumnya. Tahapan ini perlu dilakukan jika data yang Anda miliki tidak 'bersih', sehingga perlu dilakukan pemrosesan terlebih dahulu (tahapan pre-processing) sebelum data tersebut masuk kedalam algoritma pembangunan model. \n",
        "\n",
        "Materi praktikum ini dibagi menjadi 2 bagian dengan menggunakan dua dataset yang berbeda. Adapun operasi akan Anda lakukan antara lain \n",
        "* Melihat bentuk data (shape) dari data train dan test set\n",
        "* Cek data NaN, bila ada maka hapus/drop data NaN tsb\n",
        "* Cek outliers, bila ada maka hapus/drop outliers tsb\n",
        "* Melakukan konversi jenis kolom yang relevan.\n",
        "* Melakukan transformasi terhadap data yang bersifat kategori \n",
        "\n",
        "Operasi yang Anda lakukan pada tahapan pembersihan data sangat bergantung pada karakteristik permasalahan, karakter data, serta jenis data yang terdapat dalam dataset Anda. Sebagai referensi, berikut bagan dari berbagai macam tipe data yang mungkin Anda temui dalam sebuah dataset. \n",
        "\n"
      ]
    },
    {
      "cell_type": "markdown",
      "metadata": {
        "id": "xMNKOQm52Waf"
      },
      "source": [
        "\n",
        "![8UUywzzaMhY2ZGHrWE7VkA_b.png](attachment:8UUywzzaMhY2ZGHrWE7VkA_b.png)"
      ]
    },
    {
      "cell_type": "code",
      "execution_count": 1,
      "metadata": {
        "_cell_guid": "b1076dfc-b9ad-4769-8c92-a6c4dae69d19",
        "_uuid": "8f2839f25d086af736a60e9eeb907d3b93b6e0e5",
        "execution": {
          "iopub.execute_input": "2021-10-20T09:14:12.864929Z",
          "iopub.status.busy": "2021-10-20T09:14:12.864431Z",
          "iopub.status.idle": "2021-10-20T09:14:13.631899Z",
          "shell.execute_reply": "2021-10-20T09:14:13.631124Z",
          "shell.execute_reply.started": "2021-10-20T09:14:12.864675Z"
        },
        "id": "bhz2l2KT2Wag"
      },
      "outputs": [],
      "source": [
        "import numpy as np \n",
        "import pandas as pd \n",
        "import sklearn\n",
        "import seaborn as sns\n",
        "import matplotlib.pyplot as plt"
      ]
    },
    {
      "cell_type": "markdown",
      "metadata": {
        "id": "hU0yzsnc2Wah"
      },
      "source": [
        "### Dataset 1\n",
        "\n",
        "Dataset yang akan Anda gunakan pada praktikum kali ini adalah dataset komposisi beton (concrete)."
      ]
    },
    {
      "cell_type": "code",
      "execution_count": 13,
      "metadata": {
        "_cell_guid": "79c7e3d0-c299-4dcb-8224-4455121ee9b0",
        "_uuid": "d629ff2d2480ee46fbb7e2d37f6b5fab8052498a",
        "execution": {
          "iopub.execute_input": "2021-10-20T09:14:29.422831Z",
          "iopub.status.busy": "2021-10-20T09:14:29.422496Z",
          "iopub.status.idle": "2021-10-20T09:14:33.005905Z",
          "shell.execute_reply": "2021-10-20T09:14:33.005050Z",
          "shell.execute_reply.started": "2021-10-20T09:14:29.422762Z"
        },
        "id": "7C4BDNQF2Wah"
      },
      "outputs": [],
      "source": [
        "# Load data train dan test ke dalam pandas dataframe\n",
        "# dataset : https://gitlab.com/andreass.bayu/file-directory/-/raw/main/new_concreate.csv\n",
        "concrete = pd.read_csv(\"https://gitlab.com/andreass.bayu/file-directory/-/raw/main/new_concreate.csv\")"
      ]
    },
    {
      "cell_type": "code",
      "execution_count": 3,
      "metadata": {
        "_uuid": "148ecc97189af46a200b00cc52fa0a91e21bd044",
        "execution": {
          "iopub.execute_input": "2021-10-20T09:14:37.904096Z",
          "iopub.status.busy": "2021-10-20T09:14:37.903774Z",
          "iopub.status.idle": "2021-10-20T09:14:37.911259Z",
          "shell.execute_reply": "2021-10-20T09:14:37.910391Z",
          "shell.execute_reply.started": "2021-10-20T09:14:37.904034Z"
        },
        "colab": {
          "base_uri": "https://localhost:8080/"
        },
        "id": "Rk1zBqlU2Wah",
        "outputId": "2df0ef6e-d2a1-4c3d-f82f-7562c21c1583"
      },
      "outputs": [
        {
          "output_type": "execute_result",
          "data": {
            "text/plain": [
              "(1030, 9)"
            ]
          },
          "metadata": {},
          "execution_count": 3
        }
      ],
      "source": [
        "# menghasilkan jumlah baris dan jumlah kolom (bentuk data) pada data train dengan fungsi .shape\n",
        "concrete.shape"
      ]
    },
    {
      "cell_type": "code",
      "execution_count": 4,
      "metadata": {
        "_kg_hide-output": true,
        "_uuid": "e89ffea1211d7394ec677f5dc46bad3eaf521094",
        "execution": {
          "iopub.execute_input": "2021-10-20T09:15:00.421701Z",
          "iopub.status.busy": "2021-10-20T09:15:00.421352Z",
          "iopub.status.idle": "2021-10-20T09:15:00.449637Z",
          "shell.execute_reply": "2021-10-20T09:15:00.448919Z",
          "shell.execute_reply.started": "2021-10-20T09:15:00.421633Z"
        },
        "colab": {
          "base_uri": "https://localhost:8080/",
          "height": 363
        },
        "id": "3kt0lcE12Wai",
        "outputId": "d8bf5694-b733-4150-d325-c5797d7731b9"
      },
      "outputs": [
        {
          "output_type": "execute_result",
          "data": {
            "text/plain": [
              "   cement   slag    ash  water  superplastic  coarseagg  fineagg  age  \\\n",
              "0   141.3  212.0    NaN  203.5           NaN      971.8    748.5   28   \n",
              "1   168.9   42.2  124.3  158.3          10.8     1080.8    796.2   14   \n",
              "2   250.0    NaN   95.7  187.4           5.5      956.9    861.2   28   \n",
              "3   266.0  114.0    NaN  228.0           NaN      932.0    670.0   28   \n",
              "4   154.8  183.4    NaN  193.3           9.1     1047.4    696.7   28   \n",
              "5   255.0    NaN    NaN  192.0           NaN      889.8    945.0   90   \n",
              "6   166.8  250.2    NaN  203.5           NaN      975.6    692.6    7   \n",
              "7   251.4    NaN  118.3  188.5           6.4     1028.4    757.7   56   \n",
              "8   296.0    NaN    NaN  192.0           NaN     1085.0    765.0   28   \n",
              "9   155.0  184.0  143.0  194.0           9.0      880.0    699.0   28   \n",
              "\n",
              "   strength  \n",
              "0     29.89  \n",
              "1     23.51  \n",
              "2     29.22  \n",
              "3     45.85  \n",
              "4     18.29  \n",
              "5     21.86  \n",
              "6     15.75  \n",
              "7     36.64  \n",
              "8     21.65  \n",
              "9     28.99  "
            ],
            "text/html": [
              "\n",
              "  <div id=\"df-04273f1e-49dc-45f3-8d85-ef96dd9cfb04\">\n",
              "    <div class=\"colab-df-container\">\n",
              "      <div>\n",
              "<style scoped>\n",
              "    .dataframe tbody tr th:only-of-type {\n",
              "        vertical-align: middle;\n",
              "    }\n",
              "\n",
              "    .dataframe tbody tr th {\n",
              "        vertical-align: top;\n",
              "    }\n",
              "\n",
              "    .dataframe thead th {\n",
              "        text-align: right;\n",
              "    }\n",
              "</style>\n",
              "<table border=\"1\" class=\"dataframe\">\n",
              "  <thead>\n",
              "    <tr style=\"text-align: right;\">\n",
              "      <th></th>\n",
              "      <th>cement</th>\n",
              "      <th>slag</th>\n",
              "      <th>ash</th>\n",
              "      <th>water</th>\n",
              "      <th>superplastic</th>\n",
              "      <th>coarseagg</th>\n",
              "      <th>fineagg</th>\n",
              "      <th>age</th>\n",
              "      <th>strength</th>\n",
              "    </tr>\n",
              "  </thead>\n",
              "  <tbody>\n",
              "    <tr>\n",
              "      <th>0</th>\n",
              "      <td>141.3</td>\n",
              "      <td>212.0</td>\n",
              "      <td>NaN</td>\n",
              "      <td>203.5</td>\n",
              "      <td>NaN</td>\n",
              "      <td>971.8</td>\n",
              "      <td>748.5</td>\n",
              "      <td>28</td>\n",
              "      <td>29.89</td>\n",
              "    </tr>\n",
              "    <tr>\n",
              "      <th>1</th>\n",
              "      <td>168.9</td>\n",
              "      <td>42.2</td>\n",
              "      <td>124.3</td>\n",
              "      <td>158.3</td>\n",
              "      <td>10.8</td>\n",
              "      <td>1080.8</td>\n",
              "      <td>796.2</td>\n",
              "      <td>14</td>\n",
              "      <td>23.51</td>\n",
              "    </tr>\n",
              "    <tr>\n",
              "      <th>2</th>\n",
              "      <td>250.0</td>\n",
              "      <td>NaN</td>\n",
              "      <td>95.7</td>\n",
              "      <td>187.4</td>\n",
              "      <td>5.5</td>\n",
              "      <td>956.9</td>\n",
              "      <td>861.2</td>\n",
              "      <td>28</td>\n",
              "      <td>29.22</td>\n",
              "    </tr>\n",
              "    <tr>\n",
              "      <th>3</th>\n",
              "      <td>266.0</td>\n",
              "      <td>114.0</td>\n",
              "      <td>NaN</td>\n",
              "      <td>228.0</td>\n",
              "      <td>NaN</td>\n",
              "      <td>932.0</td>\n",
              "      <td>670.0</td>\n",
              "      <td>28</td>\n",
              "      <td>45.85</td>\n",
              "    </tr>\n",
              "    <tr>\n",
              "      <th>4</th>\n",
              "      <td>154.8</td>\n",
              "      <td>183.4</td>\n",
              "      <td>NaN</td>\n",
              "      <td>193.3</td>\n",
              "      <td>9.1</td>\n",
              "      <td>1047.4</td>\n",
              "      <td>696.7</td>\n",
              "      <td>28</td>\n",
              "      <td>18.29</td>\n",
              "    </tr>\n",
              "    <tr>\n",
              "      <th>5</th>\n",
              "      <td>255.0</td>\n",
              "      <td>NaN</td>\n",
              "      <td>NaN</td>\n",
              "      <td>192.0</td>\n",
              "      <td>NaN</td>\n",
              "      <td>889.8</td>\n",
              "      <td>945.0</td>\n",
              "      <td>90</td>\n",
              "      <td>21.86</td>\n",
              "    </tr>\n",
              "    <tr>\n",
              "      <th>6</th>\n",
              "      <td>166.8</td>\n",
              "      <td>250.2</td>\n",
              "      <td>NaN</td>\n",
              "      <td>203.5</td>\n",
              "      <td>NaN</td>\n",
              "      <td>975.6</td>\n",
              "      <td>692.6</td>\n",
              "      <td>7</td>\n",
              "      <td>15.75</td>\n",
              "    </tr>\n",
              "    <tr>\n",
              "      <th>7</th>\n",
              "      <td>251.4</td>\n",
              "      <td>NaN</td>\n",
              "      <td>118.3</td>\n",
              "      <td>188.5</td>\n",
              "      <td>6.4</td>\n",
              "      <td>1028.4</td>\n",
              "      <td>757.7</td>\n",
              "      <td>56</td>\n",
              "      <td>36.64</td>\n",
              "    </tr>\n",
              "    <tr>\n",
              "      <th>8</th>\n",
              "      <td>296.0</td>\n",
              "      <td>NaN</td>\n",
              "      <td>NaN</td>\n",
              "      <td>192.0</td>\n",
              "      <td>NaN</td>\n",
              "      <td>1085.0</td>\n",
              "      <td>765.0</td>\n",
              "      <td>28</td>\n",
              "      <td>21.65</td>\n",
              "    </tr>\n",
              "    <tr>\n",
              "      <th>9</th>\n",
              "      <td>155.0</td>\n",
              "      <td>184.0</td>\n",
              "      <td>143.0</td>\n",
              "      <td>194.0</td>\n",
              "      <td>9.0</td>\n",
              "      <td>880.0</td>\n",
              "      <td>699.0</td>\n",
              "      <td>28</td>\n",
              "      <td>28.99</td>\n",
              "    </tr>\n",
              "  </tbody>\n",
              "</table>\n",
              "</div>\n",
              "      <button class=\"colab-df-convert\" onclick=\"convertToInteractive('df-04273f1e-49dc-45f3-8d85-ef96dd9cfb04')\"\n",
              "              title=\"Convert this dataframe to an interactive table.\"\n",
              "              style=\"display:none;\">\n",
              "        \n",
              "  <svg xmlns=\"http://www.w3.org/2000/svg\" height=\"24px\"viewBox=\"0 0 24 24\"\n",
              "       width=\"24px\">\n",
              "    <path d=\"M0 0h24v24H0V0z\" fill=\"none\"/>\n",
              "    <path d=\"M18.56 5.44l.94 2.06.94-2.06 2.06-.94-2.06-.94-.94-2.06-.94 2.06-2.06.94zm-11 1L8.5 8.5l.94-2.06 2.06-.94-2.06-.94L8.5 2.5l-.94 2.06-2.06.94zm10 10l.94 2.06.94-2.06 2.06-.94-2.06-.94-.94-2.06-.94 2.06-2.06.94z\"/><path d=\"M17.41 7.96l-1.37-1.37c-.4-.4-.92-.59-1.43-.59-.52 0-1.04.2-1.43.59L10.3 9.45l-7.72 7.72c-.78.78-.78 2.05 0 2.83L4 21.41c.39.39.9.59 1.41.59.51 0 1.02-.2 1.41-.59l7.78-7.78 2.81-2.81c.8-.78.8-2.07 0-2.86zM5.41 20L4 18.59l7.72-7.72 1.47 1.35L5.41 20z\"/>\n",
              "  </svg>\n",
              "      </button>\n",
              "      \n",
              "  <style>\n",
              "    .colab-df-container {\n",
              "      display:flex;\n",
              "      flex-wrap:wrap;\n",
              "      gap: 12px;\n",
              "    }\n",
              "\n",
              "    .colab-df-convert {\n",
              "      background-color: #E8F0FE;\n",
              "      border: none;\n",
              "      border-radius: 50%;\n",
              "      cursor: pointer;\n",
              "      display: none;\n",
              "      fill: #1967D2;\n",
              "      height: 32px;\n",
              "      padding: 0 0 0 0;\n",
              "      width: 32px;\n",
              "    }\n",
              "\n",
              "    .colab-df-convert:hover {\n",
              "      background-color: #E2EBFA;\n",
              "      box-shadow: 0px 1px 2px rgba(60, 64, 67, 0.3), 0px 1px 3px 1px rgba(60, 64, 67, 0.15);\n",
              "      fill: #174EA6;\n",
              "    }\n",
              "\n",
              "    [theme=dark] .colab-df-convert {\n",
              "      background-color: #3B4455;\n",
              "      fill: #D2E3FC;\n",
              "    }\n",
              "\n",
              "    [theme=dark] .colab-df-convert:hover {\n",
              "      background-color: #434B5C;\n",
              "      box-shadow: 0px 1px 3px 1px rgba(0, 0, 0, 0.15);\n",
              "      filter: drop-shadow(0px 1px 2px rgba(0, 0, 0, 0.3));\n",
              "      fill: #FFFFFF;\n",
              "    }\n",
              "  </style>\n",
              "\n",
              "      <script>\n",
              "        const buttonEl =\n",
              "          document.querySelector('#df-04273f1e-49dc-45f3-8d85-ef96dd9cfb04 button.colab-df-convert');\n",
              "        buttonEl.style.display =\n",
              "          google.colab.kernel.accessAllowed ? 'block' : 'none';\n",
              "\n",
              "        async function convertToInteractive(key) {\n",
              "          const element = document.querySelector('#df-04273f1e-49dc-45f3-8d85-ef96dd9cfb04');\n",
              "          const dataTable =\n",
              "            await google.colab.kernel.invokeFunction('convertToInteractive',\n",
              "                                                     [key], {});\n",
              "          if (!dataTable) return;\n",
              "\n",
              "          const docLinkHtml = 'Like what you see? Visit the ' +\n",
              "            '<a target=\"_blank\" href=https://colab.research.google.com/notebooks/data_table.ipynb>data table notebook</a>'\n",
              "            + ' to learn more about interactive tables.';\n",
              "          element.innerHTML = '';\n",
              "          dataTable['output_type'] = 'display_data';\n",
              "          await google.colab.output.renderOutput(dataTable, element);\n",
              "          const docLink = document.createElement('div');\n",
              "          docLink.innerHTML = docLinkHtml;\n",
              "          element.appendChild(docLink);\n",
              "        }\n",
              "      </script>\n",
              "    </div>\n",
              "  </div>\n",
              "  "
            ]
          },
          "metadata": {},
          "execution_count": 4
        }
      ],
      "source": [
        "# menampilkan 10 data teratas\n",
        "concrete.head(10)"
      ]
    },
    {
      "cell_type": "code",
      "execution_count": 5,
      "metadata": {
        "_kg_hide-output": true,
        "_uuid": "a98e66b89be9c27fa284966eb71ba2ea09b4c5e1",
        "execution": {
          "iopub.execute_input": "2021-10-20T09:15:03.937395Z",
          "iopub.status.busy": "2021-10-20T09:15:03.937057Z",
          "iopub.status.idle": "2021-10-20T09:15:04.498110Z",
          "shell.execute_reply": "2021-10-20T09:15:04.497276Z",
          "shell.execute_reply.started": "2021-10-20T09:15:03.937335Z"
        },
        "colab": {
          "base_uri": "https://localhost:8080/",
          "height": 300
        },
        "id": "wUXtep5s2Wai",
        "outputId": "2621afbd-1a01-4d0f-f802-922f310c8858"
      },
      "outputs": [
        {
          "output_type": "execute_result",
          "data": {
            "text/plain": [
              "            cement        slag         ash        water  superplastic  \\\n",
              "count  1030.000000  559.000000  464.000000  1030.000000    651.000000   \n",
              "mean    281.167864  136.158676  120.288793   181.567282      9.816897   \n",
              "std     104.506364   72.351823   33.675470    21.354219      4.580328   \n",
              "min     102.000000   11.000000   24.500000   121.800000      1.700000   \n",
              "25%     192.375000   95.000000   97.850000   164.900000      6.950000   \n",
              "50%     272.900000  135.700000  121.400000   185.000000      9.400000   \n",
              "75%     350.000000  189.000000  141.000000   192.000000     11.600000   \n",
              "max     540.000000  359.400000  200.100000   247.000000     32.200000   \n",
              "\n",
              "         coarseagg      fineagg          age     strength  \n",
              "count  1030.000000  1030.000000  1030.000000  1030.000000  \n",
              "mean    972.918932   773.580485    45.662136    35.817961  \n",
              "std      77.753954    80.175980    63.169912    16.705742  \n",
              "min     801.000000   594.000000     1.000000     2.330000  \n",
              "25%     932.000000   730.950000     7.000000    23.710000  \n",
              "50%     968.000000   779.500000    28.000000    34.445000  \n",
              "75%    1029.400000   824.000000    56.000000    46.135000  \n",
              "max    1145.000000   992.600000   365.000000    82.600000  "
            ],
            "text/html": [
              "\n",
              "  <div id=\"df-0a32237b-3bf1-47f5-8307-a073e4c6c686\">\n",
              "    <div class=\"colab-df-container\">\n",
              "      <div>\n",
              "<style scoped>\n",
              "    .dataframe tbody tr th:only-of-type {\n",
              "        vertical-align: middle;\n",
              "    }\n",
              "\n",
              "    .dataframe tbody tr th {\n",
              "        vertical-align: top;\n",
              "    }\n",
              "\n",
              "    .dataframe thead th {\n",
              "        text-align: right;\n",
              "    }\n",
              "</style>\n",
              "<table border=\"1\" class=\"dataframe\">\n",
              "  <thead>\n",
              "    <tr style=\"text-align: right;\">\n",
              "      <th></th>\n",
              "      <th>cement</th>\n",
              "      <th>slag</th>\n",
              "      <th>ash</th>\n",
              "      <th>water</th>\n",
              "      <th>superplastic</th>\n",
              "      <th>coarseagg</th>\n",
              "      <th>fineagg</th>\n",
              "      <th>age</th>\n",
              "      <th>strength</th>\n",
              "    </tr>\n",
              "  </thead>\n",
              "  <tbody>\n",
              "    <tr>\n",
              "      <th>count</th>\n",
              "      <td>1030.000000</td>\n",
              "      <td>559.000000</td>\n",
              "      <td>464.000000</td>\n",
              "      <td>1030.000000</td>\n",
              "      <td>651.000000</td>\n",
              "      <td>1030.000000</td>\n",
              "      <td>1030.000000</td>\n",
              "      <td>1030.000000</td>\n",
              "      <td>1030.000000</td>\n",
              "    </tr>\n",
              "    <tr>\n",
              "      <th>mean</th>\n",
              "      <td>281.167864</td>\n",
              "      <td>136.158676</td>\n",
              "      <td>120.288793</td>\n",
              "      <td>181.567282</td>\n",
              "      <td>9.816897</td>\n",
              "      <td>972.918932</td>\n",
              "      <td>773.580485</td>\n",
              "      <td>45.662136</td>\n",
              "      <td>35.817961</td>\n",
              "    </tr>\n",
              "    <tr>\n",
              "      <th>std</th>\n",
              "      <td>104.506364</td>\n",
              "      <td>72.351823</td>\n",
              "      <td>33.675470</td>\n",
              "      <td>21.354219</td>\n",
              "      <td>4.580328</td>\n",
              "      <td>77.753954</td>\n",
              "      <td>80.175980</td>\n",
              "      <td>63.169912</td>\n",
              "      <td>16.705742</td>\n",
              "    </tr>\n",
              "    <tr>\n",
              "      <th>min</th>\n",
              "      <td>102.000000</td>\n",
              "      <td>11.000000</td>\n",
              "      <td>24.500000</td>\n",
              "      <td>121.800000</td>\n",
              "      <td>1.700000</td>\n",
              "      <td>801.000000</td>\n",
              "      <td>594.000000</td>\n",
              "      <td>1.000000</td>\n",
              "      <td>2.330000</td>\n",
              "    </tr>\n",
              "    <tr>\n",
              "      <th>25%</th>\n",
              "      <td>192.375000</td>\n",
              "      <td>95.000000</td>\n",
              "      <td>97.850000</td>\n",
              "      <td>164.900000</td>\n",
              "      <td>6.950000</td>\n",
              "      <td>932.000000</td>\n",
              "      <td>730.950000</td>\n",
              "      <td>7.000000</td>\n",
              "      <td>23.710000</td>\n",
              "    </tr>\n",
              "    <tr>\n",
              "      <th>50%</th>\n",
              "      <td>272.900000</td>\n",
              "      <td>135.700000</td>\n",
              "      <td>121.400000</td>\n",
              "      <td>185.000000</td>\n",
              "      <td>9.400000</td>\n",
              "      <td>968.000000</td>\n",
              "      <td>779.500000</td>\n",
              "      <td>28.000000</td>\n",
              "      <td>34.445000</td>\n",
              "    </tr>\n",
              "    <tr>\n",
              "      <th>75%</th>\n",
              "      <td>350.000000</td>\n",
              "      <td>189.000000</td>\n",
              "      <td>141.000000</td>\n",
              "      <td>192.000000</td>\n",
              "      <td>11.600000</td>\n",
              "      <td>1029.400000</td>\n",
              "      <td>824.000000</td>\n",
              "      <td>56.000000</td>\n",
              "      <td>46.135000</td>\n",
              "    </tr>\n",
              "    <tr>\n",
              "      <th>max</th>\n",
              "      <td>540.000000</td>\n",
              "      <td>359.400000</td>\n",
              "      <td>200.100000</td>\n",
              "      <td>247.000000</td>\n",
              "      <td>32.200000</td>\n",
              "      <td>1145.000000</td>\n",
              "      <td>992.600000</td>\n",
              "      <td>365.000000</td>\n",
              "      <td>82.600000</td>\n",
              "    </tr>\n",
              "  </tbody>\n",
              "</table>\n",
              "</div>\n",
              "      <button class=\"colab-df-convert\" onclick=\"convertToInteractive('df-0a32237b-3bf1-47f5-8307-a073e4c6c686')\"\n",
              "              title=\"Convert this dataframe to an interactive table.\"\n",
              "              style=\"display:none;\">\n",
              "        \n",
              "  <svg xmlns=\"http://www.w3.org/2000/svg\" height=\"24px\"viewBox=\"0 0 24 24\"\n",
              "       width=\"24px\">\n",
              "    <path d=\"M0 0h24v24H0V0z\" fill=\"none\"/>\n",
              "    <path d=\"M18.56 5.44l.94 2.06.94-2.06 2.06-.94-2.06-.94-.94-2.06-.94 2.06-2.06.94zm-11 1L8.5 8.5l.94-2.06 2.06-.94-2.06-.94L8.5 2.5l-.94 2.06-2.06.94zm10 10l.94 2.06.94-2.06 2.06-.94-2.06-.94-.94-2.06-.94 2.06-2.06.94z\"/><path d=\"M17.41 7.96l-1.37-1.37c-.4-.4-.92-.59-1.43-.59-.52 0-1.04.2-1.43.59L10.3 9.45l-7.72 7.72c-.78.78-.78 2.05 0 2.83L4 21.41c.39.39.9.59 1.41.59.51 0 1.02-.2 1.41-.59l7.78-7.78 2.81-2.81c.8-.78.8-2.07 0-2.86zM5.41 20L4 18.59l7.72-7.72 1.47 1.35L5.41 20z\"/>\n",
              "  </svg>\n",
              "      </button>\n",
              "      \n",
              "  <style>\n",
              "    .colab-df-container {\n",
              "      display:flex;\n",
              "      flex-wrap:wrap;\n",
              "      gap: 12px;\n",
              "    }\n",
              "\n",
              "    .colab-df-convert {\n",
              "      background-color: #E8F0FE;\n",
              "      border: none;\n",
              "      border-radius: 50%;\n",
              "      cursor: pointer;\n",
              "      display: none;\n",
              "      fill: #1967D2;\n",
              "      height: 32px;\n",
              "      padding: 0 0 0 0;\n",
              "      width: 32px;\n",
              "    }\n",
              "\n",
              "    .colab-df-convert:hover {\n",
              "      background-color: #E2EBFA;\n",
              "      box-shadow: 0px 1px 2px rgba(60, 64, 67, 0.3), 0px 1px 3px 1px rgba(60, 64, 67, 0.15);\n",
              "      fill: #174EA6;\n",
              "    }\n",
              "\n",
              "    [theme=dark] .colab-df-convert {\n",
              "      background-color: #3B4455;\n",
              "      fill: #D2E3FC;\n",
              "    }\n",
              "\n",
              "    [theme=dark] .colab-df-convert:hover {\n",
              "      background-color: #434B5C;\n",
              "      box-shadow: 0px 1px 3px 1px rgba(0, 0, 0, 0.15);\n",
              "      filter: drop-shadow(0px 1px 2px rgba(0, 0, 0, 0.3));\n",
              "      fill: #FFFFFF;\n",
              "    }\n",
              "  </style>\n",
              "\n",
              "      <script>\n",
              "        const buttonEl =\n",
              "          document.querySelector('#df-0a32237b-3bf1-47f5-8307-a073e4c6c686 button.colab-df-convert');\n",
              "        buttonEl.style.display =\n",
              "          google.colab.kernel.accessAllowed ? 'block' : 'none';\n",
              "\n",
              "        async function convertToInteractive(key) {\n",
              "          const element = document.querySelector('#df-0a32237b-3bf1-47f5-8307-a073e4c6c686');\n",
              "          const dataTable =\n",
              "            await google.colab.kernel.invokeFunction('convertToInteractive',\n",
              "                                                     [key], {});\n",
              "          if (!dataTable) return;\n",
              "\n",
              "          const docLinkHtml = 'Like what you see? Visit the ' +\n",
              "            '<a target=\"_blank\" href=https://colab.research.google.com/notebooks/data_table.ipynb>data table notebook</a>'\n",
              "            + ' to learn more about interactive tables.';\n",
              "          element.innerHTML = '';\n",
              "          dataTable['output_type'] = 'display_data';\n",
              "          await google.colab.output.renderOutput(dataTable, element);\n",
              "          const docLink = document.createElement('div');\n",
              "          docLink.innerHTML = docLinkHtml;\n",
              "          element.appendChild(docLink);\n",
              "        }\n",
              "      </script>\n",
              "    </div>\n",
              "  </div>\n",
              "  "
            ]
          },
          "metadata": {},
          "execution_count": 5
        }
      ],
      "source": [
        "# fungsi describe() untuk mengetahui statistika data untuk data numeric seperti count, mean, standard deviation, maximum, mininum, dan quartile.\n",
        "concrete.describe()"
      ]
    },
    {
      "cell_type": "code",
      "execution_count": 6,
      "metadata": {
        "_kg_hide-output": true,
        "_uuid": "0b18baf8d30016a2d3012c33a7b28068b045ad08",
        "execution": {
          "iopub.execute_input": "2021-10-20T09:15:09.618918Z",
          "iopub.status.busy": "2021-10-20T09:15:09.618451Z",
          "iopub.status.idle": "2021-10-20T09:15:09.962835Z",
          "shell.execute_reply": "2021-10-20T09:15:09.962032Z",
          "shell.execute_reply.started": "2021-10-20T09:15:09.618686Z"
        },
        "colab": {
          "base_uri": "https://localhost:8080/"
        },
        "id": "EEtDqPbR2Waj",
        "outputId": "09593596-694c-403d-d992-e95878cc6f1f"
      },
      "outputs": [
        {
          "output_type": "execute_result",
          "data": {
            "text/plain": [
              "ash             566\n",
              "slag            471\n",
              "superplastic    379\n",
              "cement            0\n",
              "water             0\n",
              "coarseagg         0\n",
              "fineagg           0\n",
              "age               0\n",
              "strength          0\n",
              "dtype: int64"
            ]
          },
          "metadata": {},
          "execution_count": 6
        }
      ],
      "source": [
        "#cek nilai yang hilang / missing values di dalam data train\n",
        "concrete.isnull().sum().sort_values(ascending=False)"
      ]
    },
    {
      "cell_type": "markdown",
      "metadata": {
        "id": "NDBIj1ha2Waj"
      },
      "source": [
        "Missing values adalah nilai yang tidak terdefinisi di dataset. Bentuknya beragam, bisa berupa blank cell, ataupun simbol-simbol tertentu seperti NaN (Not a Number), NA (Not Available), ?, -, dan sebagainya. Missing values dapat menjadi masalah dalam analisis data serta tentunya dapat mempengaruhi hasil modelling machine learning."
      ]
    },
    {
      "cell_type": "markdown",
      "metadata": {
        "id": "ng4WhtD72Waj"
      },
      "source": [
        "**Lakukan pemeriksaan dan perubahan data kosong setiap kolom pada data train:**\n",
        "1. cement (kg)\n",
        "2. slag (blast furnace slag, kg)\n",
        "3. ash (fly ash, kg)\n",
        "4. water (kg)\n",
        "5. superplastic (superplasticizer, kg)\n",
        "6. coarseagg (coarse aggregate, kg)\n",
        "7. fineagg (fine aggregate, kg)\n",
        "8. age (days, 1-365)\n",
        "9. strength (Concrete compressive strength, MPa)"
      ]
    },
    {
      "cell_type": "markdown",
      "metadata": {
        "id": "TbYnEW7b2Waj"
      },
      "source": [
        "### Instruksi Praktikum untuk mahasiswa FIKTI dan FTI (kecuali Teknik Industri, Teknik Mesin dan Agroteknologi)\n",
        "\n",
        "* Lakukan teknik data cleaning untuk data yang bernilai NaN pada Dataset concrete.  (Ubah data bernilai NaN menjadi 0)\n",
        "* Transformasikan data pada kolom strength menjadi kolom baru bernama 'Category', dengan ketentuan :\n",
        "   1. jika nilai >= 65 = 'Hard'\n",
        "   2. jika nilai >= 40 = 'Medium'\n",
        "   3. Jika nilai < 40 = 'Light'\n",
        "* Lakukan analisis histogram untuk pengaruh kolom age terhadap kolom strength, apakah yang dapat Anda simpulkan ?\n",
        "* Cari tahu komposisi concrete yang memiliki kekuatan tertinggi dan terendah\n",
        "* Berikan kesimpulan akhir anda terhadap pengaruh komposisi concrete berdasarkan dataset yang digunakan"
      ]
    },
    {
      "cell_type": "markdown",
      "metadata": {
        "id": "ctRHvZbD2Wak"
      },
      "source": [
        "### Instruksi Praktikum mahasiswa Tekrek : Teknik Industri, Teknik Mesin, Agroteknologi dan FTSP \n",
        "\n",
        "* Transformasikan data pada kolom strength menjadi kolom baru bernama 'Category', dengan ketentuan :\n",
        "   1. jika nilai >= 65 = 'Hard'\n",
        "   2. jika nilai >= 40 = 'Medium'\n",
        "   3. Jika nilai < 40 = 'Light'\n",
        "* Lakukan analisis histogram untuk pengaruh kolom age terhadap kolom strength, apakah yang dapat Anda simpulkan ?\n",
        "* Cari tahu komposisi concrete yang memiliki kekuatan tertinggi dan terendah\n",
        "* Berikan kesimpulan akhir anda terhadap pengaruh komposisi concrete berdasarkan dataset yang digunakan"
      ]
    },
    {
      "cell_type": "markdown",
      "metadata": {
        "id": "6MR0oNp-2Wak"
      },
      "source": [
        "## JAWABAN ##"
      ]
    },
    {
      "cell_type": "markdown",
      "source": [
        "# Lakukan teknik data cleaning untuk data yang bernilai NaN pada Dataset concrete. (Ubah data bernilai NaN menjadi 0)"
      ],
      "metadata": {
        "id": "eWiKwytW2wPu"
      }
    },
    {
      "cell_type": "code",
      "execution_count": 14,
      "metadata": {
        "id": "3V5Yysz62Wak"
      },
      "outputs": [],
      "source": [
        "concrete['ash'] = concrete['ash'].fillna(0)\n",
        "concrete['slag'] = concrete['slag'].fillna(0)\n",
        "concrete['superplastic'] = concrete['superplastic'].fillna(0)"
      ]
    },
    {
      "cell_type": "code",
      "source": [
        "concrete.isnull().sum()"
      ],
      "metadata": {
        "colab": {
          "base_uri": "https://localhost:8080/"
        },
        "id": "dbiDRuzd3KvW",
        "outputId": "cd5c4bea-3955-4eba-df3b-a49d11caa2f6"
      },
      "execution_count": 15,
      "outputs": [
        {
          "output_type": "execute_result",
          "data": {
            "text/plain": [
              "cement          0\n",
              "slag            0\n",
              "ash             0\n",
              "water           0\n",
              "superplastic    0\n",
              "coarseagg       0\n",
              "fineagg         0\n",
              "age             0\n",
              "strength        0\n",
              "dtype: int64"
            ]
          },
          "metadata": {},
          "execution_count": 15
        }
      ]
    },
    {
      "cell_type": "markdown",
      "source": [
        "Transformasikan data pada kolom strength menjadi kolom baru bernama 'Category', dengan ketentuan :\n",
        "jika nilai >= 65 = 'Hard'\n",
        "jika nilai >= 40 = 'Medium'\n",
        "Jika nilai < 40 = 'Light'"
      ],
      "metadata": {
        "id": "057vWcKL3Y65"
      }
    },
    {
      "cell_type": "code",
      "source": [
        "checking = lambda x:\"Hard\" if x>=65 else (\"Medium\" if x<65 and x>=40 else \"Light\")\n",
        "category = []\n",
        "for i in range(len(concrete)):\n",
        "  category.append(checking(concrete['strength'][i]))\n",
        "concrete.assign(Category=category)"
      ],
      "metadata": {
        "colab": {
          "base_uri": "https://localhost:8080/",
          "height": 424
        },
        "id": "t1YVHPfV3NdH",
        "outputId": "b9427f75-ebb9-4c33-cf3d-0e6dd37adeb5"
      },
      "execution_count": 35,
      "outputs": [
        {
          "output_type": "execute_result",
          "data": {
            "text/plain": [
              "      cement   slag    ash  water  superplastic  coarseagg  fineagg  age  \\\n",
              "0      141.3  212.0    0.0  203.5           0.0      971.8    748.5   28   \n",
              "1      168.9   42.2  124.3  158.3          10.8     1080.8    796.2   14   \n",
              "2      250.0    0.0   95.7  187.4           5.5      956.9    861.2   28   \n",
              "3      266.0  114.0    0.0  228.0           0.0      932.0    670.0   28   \n",
              "4      154.8  183.4    0.0  193.3           9.1     1047.4    696.7   28   \n",
              "...      ...    ...    ...    ...           ...        ...      ...  ...   \n",
              "1025   135.0    0.0  166.0  180.0          10.0      961.0    805.0   28   \n",
              "1026   531.3    0.0    0.0  141.8          28.2      852.1    893.7    3   \n",
              "1027   276.4  116.0   90.3  179.6           8.9      870.1    768.3   28   \n",
              "1028   342.0   38.0    0.0  228.0           0.0      932.0    670.0  270   \n",
              "1029   540.0    0.0    0.0  173.0           0.0     1125.0    613.0    7   \n",
              "\n",
              "      strength Category  \n",
              "0        29.89    Light  \n",
              "1        23.51    Light  \n",
              "2        29.22    Light  \n",
              "3        45.85   Medium  \n",
              "4        18.29    Light  \n",
              "...        ...      ...  \n",
              "1025     13.29    Light  \n",
              "1026     41.30   Medium  \n",
              "1027     44.28   Medium  \n",
              "1028     55.06   Medium  \n",
              "1029     52.61   Medium  \n",
              "\n",
              "[1030 rows x 10 columns]"
            ],
            "text/html": [
              "\n",
              "  <div id=\"df-99335fd1-7ed0-4336-964a-2c494a3f9492\">\n",
              "    <div class=\"colab-df-container\">\n",
              "      <div>\n",
              "<style scoped>\n",
              "    .dataframe tbody tr th:only-of-type {\n",
              "        vertical-align: middle;\n",
              "    }\n",
              "\n",
              "    .dataframe tbody tr th {\n",
              "        vertical-align: top;\n",
              "    }\n",
              "\n",
              "    .dataframe thead th {\n",
              "        text-align: right;\n",
              "    }\n",
              "</style>\n",
              "<table border=\"1\" class=\"dataframe\">\n",
              "  <thead>\n",
              "    <tr style=\"text-align: right;\">\n",
              "      <th></th>\n",
              "      <th>cement</th>\n",
              "      <th>slag</th>\n",
              "      <th>ash</th>\n",
              "      <th>water</th>\n",
              "      <th>superplastic</th>\n",
              "      <th>coarseagg</th>\n",
              "      <th>fineagg</th>\n",
              "      <th>age</th>\n",
              "      <th>strength</th>\n",
              "      <th>Category</th>\n",
              "    </tr>\n",
              "  </thead>\n",
              "  <tbody>\n",
              "    <tr>\n",
              "      <th>0</th>\n",
              "      <td>141.3</td>\n",
              "      <td>212.0</td>\n",
              "      <td>0.0</td>\n",
              "      <td>203.5</td>\n",
              "      <td>0.0</td>\n",
              "      <td>971.8</td>\n",
              "      <td>748.5</td>\n",
              "      <td>28</td>\n",
              "      <td>29.89</td>\n",
              "      <td>Light</td>\n",
              "    </tr>\n",
              "    <tr>\n",
              "      <th>1</th>\n",
              "      <td>168.9</td>\n",
              "      <td>42.2</td>\n",
              "      <td>124.3</td>\n",
              "      <td>158.3</td>\n",
              "      <td>10.8</td>\n",
              "      <td>1080.8</td>\n",
              "      <td>796.2</td>\n",
              "      <td>14</td>\n",
              "      <td>23.51</td>\n",
              "      <td>Light</td>\n",
              "    </tr>\n",
              "    <tr>\n",
              "      <th>2</th>\n",
              "      <td>250.0</td>\n",
              "      <td>0.0</td>\n",
              "      <td>95.7</td>\n",
              "      <td>187.4</td>\n",
              "      <td>5.5</td>\n",
              "      <td>956.9</td>\n",
              "      <td>861.2</td>\n",
              "      <td>28</td>\n",
              "      <td>29.22</td>\n",
              "      <td>Light</td>\n",
              "    </tr>\n",
              "    <tr>\n",
              "      <th>3</th>\n",
              "      <td>266.0</td>\n",
              "      <td>114.0</td>\n",
              "      <td>0.0</td>\n",
              "      <td>228.0</td>\n",
              "      <td>0.0</td>\n",
              "      <td>932.0</td>\n",
              "      <td>670.0</td>\n",
              "      <td>28</td>\n",
              "      <td>45.85</td>\n",
              "      <td>Medium</td>\n",
              "    </tr>\n",
              "    <tr>\n",
              "      <th>4</th>\n",
              "      <td>154.8</td>\n",
              "      <td>183.4</td>\n",
              "      <td>0.0</td>\n",
              "      <td>193.3</td>\n",
              "      <td>9.1</td>\n",
              "      <td>1047.4</td>\n",
              "      <td>696.7</td>\n",
              "      <td>28</td>\n",
              "      <td>18.29</td>\n",
              "      <td>Light</td>\n",
              "    </tr>\n",
              "    <tr>\n",
              "      <th>...</th>\n",
              "      <td>...</td>\n",
              "      <td>...</td>\n",
              "      <td>...</td>\n",
              "      <td>...</td>\n",
              "      <td>...</td>\n",
              "      <td>...</td>\n",
              "      <td>...</td>\n",
              "      <td>...</td>\n",
              "      <td>...</td>\n",
              "      <td>...</td>\n",
              "    </tr>\n",
              "    <tr>\n",
              "      <th>1025</th>\n",
              "      <td>135.0</td>\n",
              "      <td>0.0</td>\n",
              "      <td>166.0</td>\n",
              "      <td>180.0</td>\n",
              "      <td>10.0</td>\n",
              "      <td>961.0</td>\n",
              "      <td>805.0</td>\n",
              "      <td>28</td>\n",
              "      <td>13.29</td>\n",
              "      <td>Light</td>\n",
              "    </tr>\n",
              "    <tr>\n",
              "      <th>1026</th>\n",
              "      <td>531.3</td>\n",
              "      <td>0.0</td>\n",
              "      <td>0.0</td>\n",
              "      <td>141.8</td>\n",
              "      <td>28.2</td>\n",
              "      <td>852.1</td>\n",
              "      <td>893.7</td>\n",
              "      <td>3</td>\n",
              "      <td>41.30</td>\n",
              "      <td>Medium</td>\n",
              "    </tr>\n",
              "    <tr>\n",
              "      <th>1027</th>\n",
              "      <td>276.4</td>\n",
              "      <td>116.0</td>\n",
              "      <td>90.3</td>\n",
              "      <td>179.6</td>\n",
              "      <td>8.9</td>\n",
              "      <td>870.1</td>\n",
              "      <td>768.3</td>\n",
              "      <td>28</td>\n",
              "      <td>44.28</td>\n",
              "      <td>Medium</td>\n",
              "    </tr>\n",
              "    <tr>\n",
              "      <th>1028</th>\n",
              "      <td>342.0</td>\n",
              "      <td>38.0</td>\n",
              "      <td>0.0</td>\n",
              "      <td>228.0</td>\n",
              "      <td>0.0</td>\n",
              "      <td>932.0</td>\n",
              "      <td>670.0</td>\n",
              "      <td>270</td>\n",
              "      <td>55.06</td>\n",
              "      <td>Medium</td>\n",
              "    </tr>\n",
              "    <tr>\n",
              "      <th>1029</th>\n",
              "      <td>540.0</td>\n",
              "      <td>0.0</td>\n",
              "      <td>0.0</td>\n",
              "      <td>173.0</td>\n",
              "      <td>0.0</td>\n",
              "      <td>1125.0</td>\n",
              "      <td>613.0</td>\n",
              "      <td>7</td>\n",
              "      <td>52.61</td>\n",
              "      <td>Medium</td>\n",
              "    </tr>\n",
              "  </tbody>\n",
              "</table>\n",
              "<p>1030 rows × 10 columns</p>\n",
              "</div>\n",
              "      <button class=\"colab-df-convert\" onclick=\"convertToInteractive('df-99335fd1-7ed0-4336-964a-2c494a3f9492')\"\n",
              "              title=\"Convert this dataframe to an interactive table.\"\n",
              "              style=\"display:none;\">\n",
              "        \n",
              "  <svg xmlns=\"http://www.w3.org/2000/svg\" height=\"24px\"viewBox=\"0 0 24 24\"\n",
              "       width=\"24px\">\n",
              "    <path d=\"M0 0h24v24H0V0z\" fill=\"none\"/>\n",
              "    <path d=\"M18.56 5.44l.94 2.06.94-2.06 2.06-.94-2.06-.94-.94-2.06-.94 2.06-2.06.94zm-11 1L8.5 8.5l.94-2.06 2.06-.94-2.06-.94L8.5 2.5l-.94 2.06-2.06.94zm10 10l.94 2.06.94-2.06 2.06-.94-2.06-.94-.94-2.06-.94 2.06-2.06.94z\"/><path d=\"M17.41 7.96l-1.37-1.37c-.4-.4-.92-.59-1.43-.59-.52 0-1.04.2-1.43.59L10.3 9.45l-7.72 7.72c-.78.78-.78 2.05 0 2.83L4 21.41c.39.39.9.59 1.41.59.51 0 1.02-.2 1.41-.59l7.78-7.78 2.81-2.81c.8-.78.8-2.07 0-2.86zM5.41 20L4 18.59l7.72-7.72 1.47 1.35L5.41 20z\"/>\n",
              "  </svg>\n",
              "      </button>\n",
              "      \n",
              "  <style>\n",
              "    .colab-df-container {\n",
              "      display:flex;\n",
              "      flex-wrap:wrap;\n",
              "      gap: 12px;\n",
              "    }\n",
              "\n",
              "    .colab-df-convert {\n",
              "      background-color: #E8F0FE;\n",
              "      border: none;\n",
              "      border-radius: 50%;\n",
              "      cursor: pointer;\n",
              "      display: none;\n",
              "      fill: #1967D2;\n",
              "      height: 32px;\n",
              "      padding: 0 0 0 0;\n",
              "      width: 32px;\n",
              "    }\n",
              "\n",
              "    .colab-df-convert:hover {\n",
              "      background-color: #E2EBFA;\n",
              "      box-shadow: 0px 1px 2px rgba(60, 64, 67, 0.3), 0px 1px 3px 1px rgba(60, 64, 67, 0.15);\n",
              "      fill: #174EA6;\n",
              "    }\n",
              "\n",
              "    [theme=dark] .colab-df-convert {\n",
              "      background-color: #3B4455;\n",
              "      fill: #D2E3FC;\n",
              "    }\n",
              "\n",
              "    [theme=dark] .colab-df-convert:hover {\n",
              "      background-color: #434B5C;\n",
              "      box-shadow: 0px 1px 3px 1px rgba(0, 0, 0, 0.15);\n",
              "      filter: drop-shadow(0px 1px 2px rgba(0, 0, 0, 0.3));\n",
              "      fill: #FFFFFF;\n",
              "    }\n",
              "  </style>\n",
              "\n",
              "      <script>\n",
              "        const buttonEl =\n",
              "          document.querySelector('#df-99335fd1-7ed0-4336-964a-2c494a3f9492 button.colab-df-convert');\n",
              "        buttonEl.style.display =\n",
              "          google.colab.kernel.accessAllowed ? 'block' : 'none';\n",
              "\n",
              "        async function convertToInteractive(key) {\n",
              "          const element = document.querySelector('#df-99335fd1-7ed0-4336-964a-2c494a3f9492');\n",
              "          const dataTable =\n",
              "            await google.colab.kernel.invokeFunction('convertToInteractive',\n",
              "                                                     [key], {});\n",
              "          if (!dataTable) return;\n",
              "\n",
              "          const docLinkHtml = 'Like what you see? Visit the ' +\n",
              "            '<a target=\"_blank\" href=https://colab.research.google.com/notebooks/data_table.ipynb>data table notebook</a>'\n",
              "            + ' to learn more about interactive tables.';\n",
              "          element.innerHTML = '';\n",
              "          dataTable['output_type'] = 'display_data';\n",
              "          await google.colab.output.renderOutput(dataTable, element);\n",
              "          const docLink = document.createElement('div');\n",
              "          docLink.innerHTML = docLinkHtml;\n",
              "          element.appendChild(docLink);\n",
              "        }\n",
              "      </script>\n",
              "    </div>\n",
              "  </div>\n",
              "  "
            ]
          },
          "metadata": {},
          "execution_count": 35
        }
      ]
    },
    {
      "cell_type": "markdown",
      "source": [
        "# Lakukan analisis histogram untuk pengaruh kolom age terhadap kolom strength, apakah yang dapat Anda simpulkan ?"
      ],
      "metadata": {
        "id": "RtADRS8F8nhs"
      }
    },
    {
      "cell_type": "code",
      "source": [
        "fig = plt.figure(figsize=(10,10)) \n",
        "sns.boxplot(x=\"age\", y=\"strength\", data=concrete)\n",
        "plt.show()"
      ],
      "metadata": {
        "colab": {
          "base_uri": "https://localhost:8080/",
          "height": 296
        },
        "id": "zHnYX4YR8oZU",
        "outputId": "5772aa75-feba-4cc5-d29d-661211e4e64e"
      },
      "execution_count": 38,
      "outputs": [
        {
          "output_type": "execute_result",
          "data": {
            "text/plain": [
              "<matplotlib.axes._subplots.AxesSubplot at 0x7f3081cd0590>"
            ]
          },
          "metadata": {},
          "execution_count": 38
        },
        {
          "output_type": "display_data",
          "data": {
            "text/plain": [
              "<Figure size 432x288 with 1 Axes>"
            ],
            "image/png": "[encoded data removed]"
          },
          "metadata": {
            "needs_background": "light"
          }
        }
      ]
    },
    {
      "cell_type": "code",
      "source": [
        "concrete['strength'].hist(figsize=(8,8))\n",
        "plt.show()"
      ],
      "metadata": {
        "colab": {
          "base_uri": "https://localhost:8080/",
          "height": 483
        },
        "id": "5IUAYPAS_FCx",
        "outputId": "4372cbed-8470-4767-f2d1-0e0a0fb23bbf"
      },
      "execution_count": 39,
      "outputs": [
        {
          "output_type": "display_data",
          "data": {
            "text/plain": [
              "<Figure size 576x576 with 1 Axes>"
            ],
            "image/png": "[encoded data removed]"
          },
          "metadata": {
            "needs_background": "light"
          }
        }
      ]
    },
    {
      "cell_type": "code",
      "source": [
        "concrete['age'].hist(figsize=(8,8))\n",
        "plt.show()"
      ],
      "metadata": {
        "colab": {
          "base_uri": "https://localhost:8080/",
          "height": 483
        },
        "id": "Ot772_Wt_Yeq",
        "outputId": "928efee0-a1c3-4eaa-98ed-7e34ca638fa7"
      },
      "execution_count": 41,
      "outputs": [
        {
          "output_type": "display_data",
          "data": {
            "text/plain": [
              "<Figure size 576x576 with 1 Axes>"
            ],
            "image/png": "[encoded data removed]"
          },
          "metadata": {
            "needs_background": "light"
          }
        }
      ]
    },
    {
      "cell_type": "markdown",
      "source": [
        "Rata rata kekuatan semen berada di kisaran 35-42, umur dari semen rata rata berada di kisaran 0-40 tahun, berdasarkan boxplot, semen terkuat berada pada bangunan berumur 90-100 tahun"
      ],
      "metadata": {
        "id": "SnAV7rUL_fX3"
      }
    },
    {
      "cell_type": "markdown",
      "source": [
        "# Cari tahu komposisi concrete yang memiliki kekuatan tertinggi dan terendah"
      ],
      "metadata": {
        "id": "UzWwaTHD_3LI"
      }
    },
    {
      "cell_type": "code",
      "source": [
        "concrete.max()"
      ],
      "metadata": {
        "colab": {
          "base_uri": "https://localhost:8080/"
        },
        "id": "QJXm9Fn2_ZGf",
        "outputId": "8d4dc87e-b7b5-4573-fc30-4e148f44a6eb"
      },
      "execution_count": 42,
      "outputs": [
        {
          "output_type": "execute_result",
          "data": {
            "text/plain": [
              "cement           540.0\n",
              "slag             359.4\n",
              "ash              200.1\n",
              "water            247.0\n",
              "superplastic      32.2\n",
              "coarseagg       1145.0\n",
              "fineagg          992.6\n",
              "age              365.0\n",
              "strength          82.6\n",
              "dtype: float64"
            ]
          },
          "metadata": {},
          "execution_count": 42
        }
      ]
    },
    {
      "cell_type": "code",
      "source": [
        "concrete.min()"
      ],
      "metadata": {
        "colab": {
          "base_uri": "https://localhost:8080/"
        },
        "id": "POgyrRgfAJvA",
        "outputId": "5786de44-f00c-4456-8d79-8991f05a1776"
      },
      "execution_count": 43,
      "outputs": [
        {
          "output_type": "execute_result",
          "data": {
            "text/plain": [
              "cement          102.00\n",
              "slag              0.00\n",
              "ash               0.00\n",
              "water           121.80\n",
              "superplastic      0.00\n",
              "coarseagg       801.00\n",
              "fineagg         594.00\n",
              "age               1.00\n",
              "strength          2.33\n",
              "dtype: float64"
            ]
          },
          "metadata": {},
          "execution_count": 43
        }
      ]
    },
    {
      "cell_type": "markdown",
      "source": [
        "# Berikan kesimpulan akhir anda terhadap pengaruh komposisi concrete berdasarkan dataset yang digunakan"
      ],
      "metadata": {
        "id": "U1l6kLrFAVFZ"
      }
    },
    {
      "cell_type": "markdown",
      "source": [
        "Berdasarkan data, untuk membentuk suatu semen yang kuat membutuhkan campuran dari semua bahan seperti cement, slag, ash dan bahan lainnya. Pada semen dengan kekuatan terendah hanya mencampurkan cement, water, coarseagg, dan fineagg."
      ],
      "metadata": {
        "id": "iEHEPHIKAZDr"
      }
    },
    {
      "cell_type": "code",
      "source": [
        ""
      ],
      "metadata": {
        "id": "a-xVZtNrBFbc"
      },
      "execution_count": null,
      "outputs": []
    }
  ],
  "metadata": {
    "kernelspec": {
      "display_name": "Python 3",
      "language": "python",
      "name": "python3"
    },
    "language_info": {
      "codemirror_mode": {
        "name": "ipython",
        "version": 3
      },
      "file_extension": ".py",
      "mimetype": "text/x-python",
      "name": "python",
      "nbconvert_exporter": "python",
      "pygments_lexer": "ipython3",
      "version": "3.6.9"
    },
    "colab": {
      "name": "Praktikum6.ipynb",
      "provenance": []
    }
  },
  "nbformat": 4,
  "nbformat_minor": 0
}