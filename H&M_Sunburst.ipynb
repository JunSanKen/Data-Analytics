{
  "cells": [
    {
      "cell_type": "code",
      "execution_count": null,
      "metadata": {
        "id": "-ibLXk9C5pz1"
      },
      "outputs": [],
      "source": [
        "import pandas as pd\n",
        "import matplotlib.pyplot as plt\n",
        "import seaborn as sns\n",
        "article = pd.read_csv(\"C:\\Users\\juans\\Documents\\Sunburst H&M\\articles.csv\")\n",
        "customer = pd.read_csv(\"C:\\Users\\juans\\Documents\\Sunburst H&M\\customers.csv\")\n",
        "sample_submission = pd.read_csv(\"C:\\Users\\juans\\Documents\\Sunburst H&M\\sample_submission.csv\")\n",
        "transaction_train = pd.read_csv(\"C:\\Users\\juans\\Documents\\Sunburst H&M\\transactions_train.csv\")"
      ]
    },
    {
      "cell_type": "code",
      "execution_count": null,
      "metadata": {
        "id": "kPgLgJSl6M1J"
      },
      "outputs": [],
      "source": [
        "article.head()"
      ]
    },
    {
      "cell_type": "code",
      "execution_count": null,
      "metadata": {
        "id": "GUtecd386P2A"
      },
      "outputs": [],
      "source": [
        "customer.head()"
      ]
    },
    {
      "cell_type": "code",
      "execution_count": null,
      "metadata": {
        "id": "6zEp_4kJ7vFu"
      },
      "outputs": [],
      "source": [
        "sample_submission.head()"
      ]
    },
    {
      "cell_type": "code",
      "execution_count": null,
      "metadata": {
        "id": "jzkRzR4u7voG"
      },
      "outputs": [],
      "source": [
        "transaction_train.head()"
      ]
    },
    {
      "cell_type": "code",
      "execution_count": null,
      "metadata": {
        "id": "qf81G_RB7yKe"
      },
      "outputs": [],
      "source": [
        "import plotly.express as px\n",
        "label = article.index_group_name.unique()\n",
        "count = article.index_group_name.value_counts()\n",
        "fig = px.pie(article, values=count, names=label,color_discrete_sequence=px.colors.sequential.Purpor)\n",
        "fig.show()"
      ]
    },
    {
      "cell_type": "code",
      "execution_count": null,
      "metadata": {
        "id": "h6x9MHVI707-"
      },
      "outputs": [],
      "source": [
        "name = article.garment_group_name.unique()\n",
        "sizes = article.garment_group_name.value_counts()\n",
        "fig = px.bar(article, y=sizes, x=name, color = name,color_discrete_sequence=px.colors.sequential.Plotly3\n",
        "            )\n",
        "fig.update_layout(\n",
        "    title=\"Count of Garment Group Name\",\n",
        "    xaxis_title=\"Garment Group Name\",\n",
        "    yaxis_title=\"Count\"\n",
        ")\n",
        "fig.show()"
      ]
    },
    {
      "cell_type": "code",
      "execution_count": null,
      "metadata": {
        "id": "gkSSjmls73h-"
      },
      "outputs": [],
      "source": [
        "name = article.index_name.unique()\n",
        "sizes = article.index_name.value_counts()\n",
        "fig = px.bar(article, y=sizes, x=name, color = name,color_discrete_sequence=px.colors.diverging.Picnic)\n",
        "fig.update_layout(\n",
        "    title=\"Count of Index name\",\n",
        "    xaxis_title=\"index_name\",\n",
        "    yaxis_title=\"Count\"\n",
        ")\n",
        "fig.show()"
      ]
    },
    {
      "cell_type": "code",
      "execution_count": null,
      "metadata": {
        "id": "oDfvT4Jp7_fW"
      },
      "outputs": [],
      "source": [
        "fig = px.sunburst(article, path=['index_group_name', 'index_name', 'garment_group_name'],width=800,\n",
        "    height=800,color_discrete_sequence=px.colors.cyclical.Edge)\n",
        "fig.show()"
      ]
    }
  ],
  "metadata": {
    "colab": {
      "provenance": [],
      "toc_visible": true
    },
    "kernelspec": {
      "display_name": "Python 3",
      "name": "python3"
    },
    "language_info": {
      "name": "python"
    }
  },
  "nbformat": 4,
  "nbformat_minor": 0
}
